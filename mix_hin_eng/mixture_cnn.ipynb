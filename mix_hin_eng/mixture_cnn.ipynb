{
 "cells": [
  {
   "cell_type": "code",
   "execution_count": 4,
   "metadata": {},
   "outputs": [],
   "source": [
    "#importing packages\n",
    "import os\n",
    "import h5py\n",
    "import tensorflow as tf\n",
    "import numpy as np\n",
    "from keras.preprocessing.image import ImageDataGenerator\n",
    "from keras import optimizers\n",
    "from tensorflow.keras.models import Sequential\n",
    "from tensorflow.keras.layers import Convolution2D, MaxPooling2D, Activation, SpatialDropout2D, Dropout, Flatten, Dense, BatchNormalization\n",
    "from tensorflow.keras.callbacks import ModelCheckpoint, ReduceLROnPlateau"
   ]
  },
  {
   "cell_type": "code",
   "execution_count": 5,
   "metadata": {},
   "outputs": [
    {
     "name": "stdout",
     "output_type": "stream",
     "text": [
      "Found 214602 images belonging to 108 classes.\n"
     ]
    }
   ],
   "source": [
    "#training data directory and parameteres\n",
    "trainDataGen = ImageDataGenerator(\n",
    "                    rotation_range = 5,\n",
    "                    width_shift_range = 0.1,\n",
    "                    height_shift_range = 0.1,\n",
    "                    rescale = 1.0/255,\n",
    "                    shear_range = 0.2,\n",
    "                    zoom_range = 0.2,\t\t\n",
    "                    horizontal_flip = False,\n",
    "                    fill_mode = 'nearest',\n",
    "                )\n",
    "\n",
    "testDataGen = ImageDataGenerator(rescale=1.0/255,)\n",
    "\n",
    "\n",
    "train_gen = trainDataGen.flow_from_directory(\n",
    "                    \"data/Train\",\n",
    "                    target_size=(32, 32),\n",
    "                    color_mode=\"grayscale\",\n",
    "                    class_mode=\"categorical\",\n",
    "                    batch_size=32\n",
    "                    )\n"
   ]
  },
  {
   "cell_type": "code",
   "execution_count": 6,
   "metadata": {},
   "outputs": [
    {
     "name": "stdout",
     "output_type": "stream",
     "text": [
      "Found 32400 images belonging to 108 classes.\n"
     ]
    }
   ],
   "source": [
    "#validation data directory and parameteres\n",
    "val_gen = testDataGen.flow_from_directory(\n",
    "                    \"data/Test\",\n",
    "                    target_size=(32, 32),\n",
    "                    color_mode=\"grayscale\",\n",
    "                    class_mode=\"categorical\",\n",
    "                    batch_size=32\n",
    "                    )"
   ]
  },
  {
   "cell_type": "code",
   "execution_count": 7,
   "metadata": {},
   "outputs": [],
   "source": [
    "#Adding CNN Layers\n",
    "model = Sequential()\n",
    "\n",
    "#Layer1 -------- 32 ----------------------------------------------------------\n",
    "model.add(Convolution2D(filters = 32,kernel_size = (3,3),padding='same', activation = \"relu\",\n",
    "            input_shape = (32,32,1)))\n",
    "\n",
    "model.add(BatchNormalization())\n",
    "\n",
    "model.add(SpatialDropout2D(0.4))\n",
    "\n",
    "#Layer2 ---- 32 -------------------------------------------------------------\n",
    "model.add(Convolution2D(filters = 32,kernel_size = (3,3), activation = \"relu\"))\n",
    "\n",
    "model.add(BatchNormalization())\n",
    "\n",
    "model.add(MaxPooling2D(pool_size=(2, 2)))\n",
    "\n",
    "#strides=(2, 2),padding=\"same\")\n",
    "\n",
    "#Layers 3 ------- 64 -----------------------------------------------------------\t\n",
    "model.add(Convolution2D(filters = 64,kernel_size = (3,3),padding='same', activation = \"relu\"))\n",
    "\n",
    "model.add(BatchNormalization())\n",
    "\n",
    "model.add(SpatialDropout2D(0.4))\n",
    "\n",
    "#Layer 4 --------- 64 --------------------------------------------------\n",
    "model.add(Convolution2D(filters = 64,kernel_size = (3,3),activation = \"relu\"))\n",
    "\n",
    "model.add(BatchNormalization())\n",
    "\n",
    "model.add(MaxPooling2D(pool_size=(2, 2)))\n",
    "\n",
    "#Layer 5 ---------- 128 -----------------------------------------------\n",
    "model.add(Convolution2D(filters = 128,kernel_size = (3,3),padding='same',activation = \"relu\"))\n",
    "\n",
    "model.add(BatchNormalization())\n",
    "\n",
    "model.add(SpatialDropout2D(0.4))\n",
    "\n",
    "#Layer 6 ---------- 128 ------------------------------------------------\n",
    "model.add(Convolution2D(filters = 128,kernel_size = (3,3),activation = \"relu\"))\n",
    "\n",
    "model.add(BatchNormalization())\n",
    "\n",
    "model.add(MaxPooling2D(pool_size=(2, 2)))\n",
    "\n",
    "#Flattening Data\n",
    "model.add(Flatten())\n",
    "\n",
    "#Adding hidden layers\n",
    "\n",
    "#Hidden layer - 3\n",
    "model.add(Dense(256,activation = \"relu\"))\n",
    "\n",
    "model.add(Dropout(0.4))\n",
    "\n",
    "model.add(Dense(100,activation = \"relu\"))\n",
    "\n",
    "model.add(Dense(100,activation = \"relu\"))\n",
    "\n",
    "model.add(Dense(100,activation = \"relu\"))\n",
    "\n",
    "#Output Layer\n",
    "model.add(Dense(108,activation = \"softmax\"))"
   ]
  },
  {
   "cell_type": "code",
   "execution_count": 8,
   "metadata": {},
   "outputs": [
    {
     "name": "stdout",
     "output_type": "stream",
     "text": [
      "Model: \"sequential\"\n",
      "_________________________________________________________________\n",
      "Layer (type)                 Output Shape              Param #   \n",
      "=================================================================\n",
      "conv2d (Conv2D)              (None, 32, 32, 32)        320       \n",
      "_________________________________________________________________\n",
      "batch_normalization (BatchNo (None, 32, 32, 32)        128       \n",
      "_________________________________________________________________\n",
      "spatial_dropout2d (SpatialDr (None, 32, 32, 32)        0         \n",
      "_________________________________________________________________\n",
      "conv2d_1 (Conv2D)            (None, 30, 30, 32)        9248      \n",
      "_________________________________________________________________\n",
      "batch_normalization_1 (Batch (None, 30, 30, 32)        128       \n",
      "_________________________________________________________________\n",
      "max_pooling2d (MaxPooling2D) (None, 15, 15, 32)        0         \n",
      "_________________________________________________________________\n",
      "conv2d_2 (Conv2D)            (None, 15, 15, 64)        18496     \n",
      "_________________________________________________________________\n",
      "batch_normalization_2 (Batch (None, 15, 15, 64)        256       \n",
      "_________________________________________________________________\n",
      "spatial_dropout2d_1 (Spatial (None, 15, 15, 64)        0         \n",
      "_________________________________________________________________\n",
      "conv2d_3 (Conv2D)            (None, 13, 13, 64)        36928     \n",
      "_________________________________________________________________\n",
      "batch_normalization_3 (Batch (None, 13, 13, 64)        256       \n",
      "_________________________________________________________________\n",
      "max_pooling2d_1 (MaxPooling2 (None, 6, 6, 64)          0         \n",
      "_________________________________________________________________\n",
      "conv2d_4 (Conv2D)            (None, 6, 6, 128)         73856     \n",
      "_________________________________________________________________\n",
      "batch_normalization_4 (Batch (None, 6, 6, 128)         512       \n",
      "_________________________________________________________________\n",
      "spatial_dropout2d_2 (Spatial (None, 6, 6, 128)         0         \n",
      "_________________________________________________________________\n",
      "conv2d_5 (Conv2D)            (None, 4, 4, 128)         147584    \n",
      "_________________________________________________________________\n",
      "batch_normalization_5 (Batch (None, 4, 4, 128)         512       \n",
      "_________________________________________________________________\n",
      "max_pooling2d_2 (MaxPooling2 (None, 2, 2, 128)         0         \n",
      "_________________________________________________________________\n",
      "flatten (Flatten)            (None, 512)               0         \n",
      "_________________________________________________________________\n",
      "dense (Dense)                (None, 256)               131328    \n",
      "_________________________________________________________________\n",
      "dropout (Dropout)            (None, 256)               0         \n",
      "_________________________________________________________________\n",
      "dense_1 (Dense)              (None, 100)               25700     \n",
      "_________________________________________________________________\n",
      "dense_2 (Dense)              (None, 100)               10100     \n",
      "_________________________________________________________________\n",
      "dense_3 (Dense)              (None, 100)               10100     \n",
      "_________________________________________________________________\n",
      "dense_4 (Dense)              (None, 108)               10908     \n",
      "=================================================================\n",
      "Total params: 476,360\n",
      "Trainable params: 475,464\n",
      "Non-trainable params: 896\n",
      "_________________________________________________________________\n",
      "None\n"
     ]
    }
   ],
   "source": [
    "# Compile the model\n",
    "#opt = tf.keras.optimizers.Nadam(lr=0.002, beta_1=0.9, beta_2=0.999, epsilon=None, schedule_decay=0.004)\n",
    "#opt = tf.keras.optimizers.RMSprop(learning_rate=0.0001)\n",
    "opt = tf.keras.optimizers.Adam()\n",
    "model.compile(optimizer = opt,\n",
    "              loss = \"categorical_crossentropy\",\n",
    "              metrics = [\"accuracy\"])\n",
    "\n",
    "print(model.summary())"
   ]
  },
  {
   "cell_type": "code",
   "execution_count": 9,
   "metadata": {},
   "outputs": [],
   "source": [
    "#if no change in validation loss - learning rate will be decreased\n",
    "anne = ReduceLROnPlateau(monitor='val_accuracy', factor=0.5, patience=5, verbose=1, min_lr=1e-3)\n",
    "checkpoint = ModelCheckpoint('model.h5', verbose=1, save_best_only=True)"
   ]
  },
  {
   "cell_type": "code",
   "execution_count": 10,
   "metadata": {},
   "outputs": [
    {
     "name": "stdout",
     "output_type": "stream",
     "text": [
      "Epoch 1/30\n",
      "6706/6706 [==============================] - 458s 68ms/step - loss: 1.8229 - accuracy: 0.4499 - val_loss: 0.6677 - val_accuracy: 0.7540\n",
      "Epoch 2/30\n",
      "6706/6706 [==============================] - 189s 28ms/step - loss: 0.9743 - accuracy: 0.6657 - val_loss: 0.5414 - val_accuracy: 0.7915\n",
      "Epoch 3/30\n",
      "6706/6706 [==============================] - 195s 29ms/step - loss: 0.8484 - accuracy: 0.7047 - val_loss: 0.5004 - val_accuracy: 0.8026\n",
      "Epoch 4/30\n",
      "6706/6706 [==============================] - 191s 29ms/step - loss: 0.7842 - accuracy: 0.7239 - val_loss: 0.4947 - val_accuracy: 0.8083\n",
      "Epoch 5/30\n",
      "6706/6706 [==============================] - 205s 31ms/step - loss: 0.7434 - accuracy: 0.7365 - val_loss: 0.4623 - val_accuracy: 0.8166\n",
      "Epoch 6/30\n",
      "6706/6706 [==============================] - 209s 31ms/step - loss: 0.7118 - accuracy: 0.7473 - val_loss: 0.4570 - val_accuracy: 0.8213\n",
      "Epoch 7/30\n",
      "6706/6706 [==============================] - 197s 29ms/step - loss: 0.6949 - accuracy: 0.7526 - val_loss: 0.4559 - val_accuracy: 0.8236\n",
      "Epoch 8/30\n",
      "6706/6706 [==============================] - 195s 29ms/step - loss: 0.6736 - accuracy: 0.7591 - val_loss: 0.4453 - val_accuracy: 0.8243\n",
      "Epoch 9/30\n",
      "6706/6706 [==============================] - 205s 31ms/step - loss: 0.6620 - accuracy: 0.7635 - val_loss: 0.4342 - val_accuracy: 0.8269\n",
      "Epoch 10/30\n",
      "6706/6706 [==============================] - 202s 30ms/step - loss: 0.6463 - accuracy: 0.7658 - val_loss: 0.4297 - val_accuracy: 0.8241\n",
      "Epoch 11/30\n",
      "6706/6706 [==============================] - 208s 31ms/step - loss: 0.6381 - accuracy: 0.7693 - val_loss: 0.4246 - val_accuracy: 0.8269\n",
      "Epoch 12/30\n",
      "6706/6706 [==============================] - 200s 30ms/step - loss: 0.6290 - accuracy: 0.7721 - val_loss: 0.4243 - val_accuracy: 0.8294\n",
      "Epoch 13/30\n",
      "6706/6706 [==============================] - 223s 33ms/step - loss: 0.6202 - accuracy: 0.7739 - val_loss: 0.4215 - val_accuracy: 0.8285\n",
      "Epoch 14/30\n",
      "6706/6706 [==============================] - 203s 30ms/step - loss: 0.6174 - accuracy: 0.7764 - val_loss: 0.4173 - val_accuracy: 0.8339\n",
      "Epoch 15/30\n",
      "6706/6706 [==============================] - 198s 30ms/step - loss: 0.6112 - accuracy: 0.7774 - val_loss: 0.4167 - val_accuracy: 0.8313\n",
      "Epoch 16/30\n",
      "6706/6706 [==============================] - 193s 29ms/step - loss: 0.6065 - accuracy: 0.7805 - val_loss: 0.4259 - val_accuracy: 0.8339\n",
      "Epoch 17/30\n",
      "6706/6706 [==============================] - 196s 29ms/step - loss: 0.6027 - accuracy: 0.7812 - val_loss: 0.4236 - val_accuracy: 0.8301\n",
      "Epoch 18/30\n",
      "6706/6706 [==============================] - 206s 31ms/step - loss: 0.5993 - accuracy: 0.7817 - val_loss: 0.4216 - val_accuracy: 0.8344\n",
      "Epoch 19/30\n",
      "6706/6706 [==============================] - 202s 30ms/step - loss: 0.5949 - accuracy: 0.7837 - val_loss: 0.4195 - val_accuracy: 0.8353\n",
      "Epoch 20/30\n",
      "6706/6706 [==============================] - 205s 31ms/step - loss: 0.5924 - accuracy: 0.7849 - val_loss: 0.4165 - val_accuracy: 0.8356\n",
      "Epoch 21/30\n",
      "6706/6706 [==============================] - 204s 30ms/step - loss: 0.5951 - accuracy: 0.7837 - val_loss: 0.4119 - val_accuracy: 0.8381\n",
      "Epoch 22/30\n",
      "6706/6706 [==============================] - 196s 29ms/step - loss: 0.5888 - accuracy: 0.7863 - val_loss: 0.4035 - val_accuracy: 0.8416\n",
      "Epoch 23/30\n",
      "6706/6706 [==============================] - 204s 30ms/step - loss: 0.5903 - accuracy: 0.7862 - val_loss: 0.4138 - val_accuracy: 0.8341\n",
      "Epoch 24/30\n",
      "6706/6706 [==============================] - 201s 30ms/step - loss: 0.5865 - accuracy: 0.7869 - val_loss: 0.4116 - val_accuracy: 0.8320\n",
      "Epoch 25/30\n",
      "6706/6706 [==============================] - 205s 31ms/step - loss: 0.5876 - accuracy: 0.7870 - val_loss: 0.4053 - val_accuracy: 0.8400\n",
      "Epoch 26/30\n",
      "6706/6706 [==============================] - 198s 29ms/step - loss: 0.5842 - accuracy: 0.7874 - val_loss: 0.4096 - val_accuracy: 0.8320\n",
      "Epoch 27/30\n",
      "6706/6706 [==============================] - 200s 30ms/step - loss: 0.5830 - accuracy: 0.7878 - val_loss: 0.4112 - val_accuracy: 0.8381\n",
      "Epoch 28/30\n",
      "6706/6706 [==============================] - 206s 31ms/step - loss: 0.5787 - accuracy: 0.7901 - val_loss: 0.4004 - val_accuracy: 0.8411\n",
      "Epoch 29/30\n",
      "6706/6706 [==============================] - 207s 31ms/step - loss: 0.5784 - accuracy: 0.7900 - val_loss: 0.3998 - val_accuracy: 0.8387\n",
      "Epoch 30/30\n",
      "6706/6706 [==============================] - 195s 29ms/step - loss: 0.5781 - accuracy: 0.7894 - val_loss: 0.4122 - val_accuracy: 0.8392\n"
     ]
    }
   ],
   "source": [
    "mix_cnn = model.fit(\n",
    "        train_gen,\n",
    "        epochs = 30,\n",
    "        steps_per_epoch = 6706,\n",
    "        validation_data = val_gen,\n",
    "        validation_steps = 1013\n",
    "        )"
   ]
  },
  {
   "cell_type": "code",
   "execution_count": 11,
   "metadata": {},
   "outputs": [],
   "source": [
    "model.save(\"MixModel-79.h5\")"
   ]
  },
  {
   "cell_type": "code",
   "execution_count": 12,
   "metadata": {},
   "outputs": [],
   "source": [
    "#plotting graphs\n",
    "%matplotlib inline\n",
    "accu=mix_cnn.history['accuracy']\n",
    "val_acc=mix_cnn.history['val_accuracy']\n",
    "loss=mix_cnn.history['loss']\n",
    "val_loss=mix_cnn.history['val_loss']\n",
    "\n",
    "epochs=range(len(accu)) #No. of epochs\n",
    "\n"
   ]
  },
  {
   "cell_type": "code",
   "execution_count": 14,
   "metadata": {},
   "outputs": [
    {
     "data": {
      "image/png": "[encoded data removed]",
      "text/plain": [
       "<Figure size 432x288 with 1 Axes>"
      ]
     },
     "metadata": {
      "needs_background": "light"
     },
     "output_type": "display_data"
    },
    {
     "data": {
      "image/png": "[encoded data removed]",
      "text/plain": [
       "<Figure size 432x288 with 1 Axes>"
      ]
     },
     "metadata": {
      "needs_background": "light"
     },
     "output_type": "display_data"
    }
   ],
   "source": [
    "#plotting graphs\n",
    "import matplotlib.pyplot as plt\n",
    "plt.plot(epochs,accu,'r',label='Training Accuracy')\n",
    "plt.plot(epochs,val_acc,'g',label='Testing Accuracy')\n",
    "\n",
    "plt.savefig('training_accuracy_mix.png')\n",
    "plt.legend()\n",
    "plt.figure()\n",
    "\n",
    "#Plot training and validation loss per epoch\n",
    "plt.plot(epochs,loss,'r',label='Training Loss')\n",
    "plt.plot(epochs,val_loss,'g',label='Testing Loss')\n",
    "\n",
    "plt.savefig('training_loss_mix.png')\n",
    "plt.legend()\n",
    "plt.show()\n",
    "\n"
   ]
  },
  {
   "cell_type": "code",
   "execution_count": null,
   "metadata": {},
   "outputs": [],
   "source": []
  },
  {
   "cell_type": "code",
   "execution_count": null,
   "metadata": {},
   "outputs": [],
   "source": []
  },
  {
   "cell_type": "code",
   "execution_count": null,
   "metadata": {},
   "outputs": [],
   "source": []
  },
  {
   "cell_type": "code",
   "execution_count": null,
   "metadata": {},
   "outputs": [],
   "source": []
  },
  {
   "cell_type": "code",
   "execution_count": null,
   "metadata": {},
   "outputs": [],
   "source": []
  }
 ],
 "metadata": {
  "kernelspec": {
   "display_name": "Python 3",
   "language": "python",
   "name": "python3"
  },
  "language_info": {
   "codemirror_mode": {
    "name": "ipython",
    "version": 3
   },
   "file_extension": ".py",
   "mimetype": "text/x-python",
   "name": "python",
   "nbconvert_exporter": "python",
   "pygments_lexer": "ipython3",
   "version": "3.7.6"
  }
 },
 "nbformat": 4,
 "nbformat_minor": 4
}
