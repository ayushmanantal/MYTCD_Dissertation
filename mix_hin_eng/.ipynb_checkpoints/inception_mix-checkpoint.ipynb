{
 "cells": [
  {
   "cell_type": "code",
   "execution_count": 1,
   "metadata": {},
   "outputs": [],
   "source": [
    "#importing packages\n",
    "import os \n",
    "import zipfile \n",
    "import tensorflow as tf \n",
    "from tensorflow.keras.optimizers import RMSprop \n",
    "from tensorflow.keras.preprocessing.image import ImageDataGenerator \n",
    "from tensorflow.keras import layers \n",
    "from tensorflow.keras import Model \n",
    "from tensorflow.keras.applications.inception_v3 import InceptionV3 \n",
    "from tensorflow.keras.optimizers import RMSprop \n",
    "from tensorflow.keras.callbacks import ModelCheckpoint, ReduceLROnPlateau"
   ]
  },
  {
   "cell_type": "code",
   "execution_count": null,
   "metadata": {},
   "outputs": [],
   "source": [
    "# re-size all the images to this\n",
    "IMAGE_SIZE = [128, 128]\n",
    "\n",
    "train_path = 'data/Train'\n",
    "valid_path = 'data/Test'\n"
   ]
  },
  {
   "cell_type": "code",
   "execution_count": 2,
   "metadata": {},
   "outputs": [
    {
     "name": "stdout",
     "output_type": "stream",
     "text": [
      "Found 214602 images belonging to 108 classes.\n"
     ]
    }
   ],
   "source": [
    "#training data directory and parameteres\n",
    "trainDataGen = ImageDataGenerator(\n",
    "                    rotation_range = 5,\n",
    "                    width_shift_range = 0.1,\n",
    "                    height_shift_range = 0.1,\n",
    "                    rescale = 1.0/255,\n",
    "                    shear_range = 0.2,\n",
    "                    zoom_range = 0.2,\n",
    "                    horizontal_flip = False,\n",
    "                    fill_mode = 'nearest',\n",
    "                )\n",
    "\n",
    "testDataGen = ImageDataGenerator(rescale=1.0/255,)\n",
    "\n",
    "\n",
    "train_gen = trainDataGen.flow_from_directory(\n",
    "                    \"data/Train\",\n",
    "                    target_size=(128, 128),\n",
    "                    class_mode=\"categorical\",\n",
    "                    batch_size=64\n",
    "                    )\n"
   ]
  },
  {
   "cell_type": "code",
   "execution_count": 3,
   "metadata": {},
   "outputs": [
    {
     "name": "stdout",
     "output_type": "stream",
     "text": [
      "Found 32400 images belonging to 108 classes.\n"
     ]
    }
   ],
   "source": [
    "#validation data directory and parameteres\n",
    "val_gen = testDataGen.flow_from_directory(\n",
    "                    \"data/Test\",\n",
    "                    target_size=(128, 128),\n",
    "                    class_mode=\"categorical\",\n",
    "                    batch_size=64\n",
    "                    )\n"
   ]
  },
  {
   "cell_type": "code",
   "execution_count": 4,
   "metadata": {},
   "outputs": [],
   "source": [
    "#building base model\n",
    "base_model = InceptionV3(input_shape = IMAGE_SIZE + [3],  \n",
    "                                include_top = False,  \n",
    "                                weights = 'imagenet') \n",
    "for layer in base_model.layers: \n",
    "  layer.trainable = False\n",
    "  \n",
    "#stop training is model accuracy reached 99% \n",
    "class myCallback(tf.keras.callbacks.Callback): \n",
    "  def on_epoch_end(self, epoch, logs={}): \n",
    "    if(logs.get('acc')>0.99): \n",
    "      self.model.stop_training = True"
   ]
  },
  {
   "cell_type": "code",
   "execution_count": 5,
   "metadata": {},
   "outputs": [],
   "source": [
    "# code \n",
    "x = layers.Flatten()(base_model.output) \n",
    "\n",
    "x = layers.BatchNormalization()(x)\n",
    "x = layers.Dropout(0.1)(x)\n",
    "x = layers.Dense(512, activation='relu')(x)\n",
    "x = layers.Dense(256,activation='relu')(x) \n",
    "x = layers.Dropout(0.1)(x)  #dropout is decreased after observation of resutls on dataset\n",
    "x = layers.BatchNormalization()(x)\n",
    "\n",
    "x = layers.Dense(108, activation='softmax')(x)            \n",
    "  \n",
    "model = Model( base_model.input, x)  "
   ]
  },
  {
   "cell_type": "code",
   "execution_count": 6,
   "metadata": {},
   "outputs": [],
   "source": [
    "#compiling the model\n",
    "opt = tf.keras.optimizers.Adam()\n",
    "model.compile(optimizer = opt,loss = 'categorical_crossentropy',metrics = ['acc']) # was using binary before"
   ]
  },
  {
   "cell_type": "code",
   "execution_count": 7,
   "metadata": {},
   "outputs": [],
   "source": [
    "#if no change in validation loss - learning rate will be decreased\n",
    "anne = ReduceLROnPlateau(monitor='val_accuracy', factor=0.5, patience=5, verbose=1, min_lr=1e-3)\n",
    "checkpoint = ModelCheckpoint('model.h5', verbose=1, save_best_only=True)"
   ]
  },
  {
   "cell_type": "code",
   "execution_count": 8,
   "metadata": {},
   "outputs": [
    {
     "name": "stdout",
     "output_type": "stream",
     "text": [
      "Epoch 1/30\n",
      "6706/6706 [==============================] - 579s 86ms/step - loss: 1.9056 - acc: 0.4388 - val_loss: 1.3392 - val_acc: 0.5773\n",
      "Epoch 2/30\n",
      "6706/6706 [==============================] - 586s 87ms/step - loss: 1.5284 - acc: 0.5273 - val_loss: 1.1671 - val_acc: 0.6244\n",
      "Epoch 3/30\n",
      "6706/6706 [==============================] - 584s 87ms/step - loss: 1.4021 - acc: 0.5583 - val_loss: 1.0762 - val_acc: 0.6453\n",
      "Epoch 4/30\n",
      "6706/6706 [==============================] - 591s 88ms/step - loss: 1.3339 - acc: 0.5766 - val_loss: 1.0381 - val_acc: 0.6576\n",
      "Epoch 5/30\n",
      "6706/6706 [==============================] - 575s 86ms/step - loss: 1.2873 - acc: 0.5890 - val_loss: 0.9927 - val_acc: 0.6685\n",
      "Epoch 6/30\n",
      "6706/6706 [==============================] - 564s 84ms/step - loss: 1.2477 - acc: 0.6001 - val_loss: 0.9712 - val_acc: 0.6769\n",
      "Epoch 7/30\n",
      "6706/6706 [==============================] - 577s 86ms/step - loss: 1.2163 - acc: 0.6079 - val_loss: 0.9314 - val_acc: 0.6882\n",
      "Epoch 8/30\n",
      "6706/6706 [==============================] - 585s 87ms/step - loss: 1.1928 - acc: 0.6132 - val_loss: 0.9238 - val_acc: 0.6893\n",
      "Epoch 9/30\n",
      "6706/6706 [==============================] - 594s 89ms/step - loss: 1.1772 - acc: 0.6175 - val_loss: 0.9079 - val_acc: 0.6992\n",
      "Epoch 10/30\n",
      "6706/6706 [==============================] - 569s 85ms/step - loss: 1.1598 - acc: 0.6226 - val_loss: 0.9127 - val_acc: 0.6939\n",
      "Epoch 11/30\n",
      "6706/6706 [==============================] - 598s 89ms/step - loss: 1.1455 - acc: 0.6267 - val_loss: 0.8931 - val_acc: 0.6992\n",
      "Epoch 12/30\n",
      "6706/6706 [==============================] - 581s 87ms/step - loss: 1.1361 - acc: 0.6294 - val_loss: 0.8789 - val_acc: 0.7030\n",
      "Epoch 13/30\n",
      "6706/6706 [==============================] - 605s 90ms/step - loss: 1.1224 - acc: 0.6323 - val_loss: 0.8726 - val_acc: 0.7067\n",
      "Epoch 14/30\n",
      "6706/6706 [==============================] - 604s 90ms/step - loss: 1.1104 - acc: 0.6376 - val_loss: 0.8663 - val_acc: 0.7068\n",
      "Epoch 15/30\n",
      "6706/6706 [==============================] - 682s 102ms/step - loss: 1.1021 - acc: 0.6392 - val_loss: 0.8519 - val_acc: 0.7120\n",
      "Epoch 16/30\n",
      "6706/6706 [==============================] - 570s 85ms/step - loss: 1.0940 - acc: 0.6404 - val_loss: 0.8472 - val_acc: 0.7125\n",
      "Epoch 17/30\n",
      "6706/6706 [==============================] - 600s 89ms/step - loss: 1.0879 - acc: 0.6428 - val_loss: 0.8391 - val_acc: 0.7136\n",
      "Epoch 18/30\n",
      "6706/6706 [==============================] - 580s 86ms/step - loss: 1.0767 - acc: 0.6447 - val_loss: 0.8394 - val_acc: 0.7135\n",
      "Epoch 19/30\n",
      "6706/6706 [==============================] - 587s 88ms/step - loss: 1.0711 - acc: 0.6473 - val_loss: 0.8473 - val_acc: 0.7116\n",
      "Epoch 20/30\n",
      "6706/6706 [==============================] - 606s 90ms/step - loss: 1.0690 - acc: 0.6483 - val_loss: 0.8299 - val_acc: 0.7183\n",
      "Epoch 21/30\n",
      "6706/6706 [==============================] - 602s 90ms/step - loss: 1.0598 - acc: 0.6505 - val_loss: 0.8352 - val_acc: 0.7153\n",
      "Epoch 22/30\n",
      "6706/6706 [==============================] - 597s 89ms/step - loss: 1.0533 - acc: 0.6521 - val_loss: 0.8273 - val_acc: 0.7162\n",
      "Epoch 23/30\n",
      "6706/6706 [==============================] - 606s 90ms/step - loss: 1.0506 - acc: 0.6518 - val_loss: 0.8127 - val_acc: 0.7200\n",
      "Epoch 24/30\n",
      "6706/6706 [==============================] - 596s 89ms/step - loss: 1.0437 - acc: 0.6536 - val_loss: 0.8243 - val_acc: 0.7205\n",
      "Epoch 25/30\n",
      "6706/6706 [==============================] - 601s 90ms/step - loss: 1.0411 - acc: 0.6547 - val_loss: 0.8129 - val_acc: 0.7231\n",
      "Epoch 26/30\n",
      "6706/6706 [==============================] - 587s 88ms/step - loss: 1.0353 - acc: 0.6572 - val_loss: 0.8159 - val_acc: 0.7204\n",
      "Epoch 27/30\n",
      "6706/6706 [==============================] - 598s 89ms/step - loss: 1.0355 - acc: 0.6566 - val_loss: 0.8155 - val_acc: 0.7226\n",
      "Epoch 28/30\n",
      "6706/6706 [==============================] - 602s 90ms/step - loss: 1.0294 - acc: 0.6584 - val_loss: 0.8136 - val_acc: 0.7237\n",
      "Epoch 29/30\n",
      "6706/6706 [==============================] - 613s 91ms/step - loss: 1.0201 - acc: 0.6614 - val_loss: 0.7974 - val_acc: 0.7248\n",
      "Epoch 30/30\n",
      "6706/6706 [==============================] - 699s 104ms/step - loss: 1.0188 - acc: 0.6613 - val_loss: 0.8120 - val_acc: 0.7191\n"
     ]
    }
   ],
   "source": [
    "#fitting the model  \n",
    "incep = model.fit( \n",
    "            train_gen, \n",
    "            validation_data = val_gen, \n",
    "            steps_per_epoch = 3353, \n",
    "            epochs = 30, \n",
    "            validation_steps = 506) "
   ]
  },
  {
   "cell_type": "code",
   "execution_count": 9,
   "metadata": {},
   "outputs": [],
   "source": [
    "#saving the model\n",
    "model.save(\"IncepModel.h5\")"
   ]
  },
  {
   "cell_type": "code",
   "execution_count": 13,
   "metadata": {},
   "outputs": [],
   "source": [
    "#plotting the graph\n",
    "%matplotlib inline\n",
    "accu=incep.history['acc']\n",
    "val_acc=incep.history['val_acc']\n",
    "loss=incep.history['loss']\n",
    "val_loss=incep.history['val_loss']\n",
    "\n",
    "epochs=range(len(accu)) #No. of epochs\n",
    "\n"
   ]
  },
  {
   "cell_type": "code",
   "execution_count": 14,
   "metadata": {},
   "outputs": [
    {
     "data": {
      "image/png": "[encoded data removed]",
      "text/plain": [
       "<Figure size 432x288 with 1 Axes>"
      ]
     },
     "metadata": {
      "needs_background": "light"
     },
     "output_type": "display_data"
    },
    {
     "data": {
      "image/png": "[encoded data removed]",
      "text/plain": [
       "<Figure size 432x288 with 1 Axes>"
      ]
     },
     "metadata": {
      "needs_background": "light"
     },
     "output_type": "display_data"
    }
   ],
   "source": [
    "import matplotlib.pyplot as plt\n",
    "plt.plot(epochs,accu,'r',label='Training Accuracy')\n",
    "plt.plot(epochs,val_acc,'g',label='Testing Accuracy')\n",
    "\n",
    "plt.savefig('training_accuracy_mix_incep.png')\n",
    "plt.legend()\n",
    "plt.figure()\n",
    "\n",
    "#Plot training and validation loss per epoch\n",
    "plt.plot(epochs,loss,'r',label='Training Loss')\n",
    "plt.plot(epochs,val_loss,'g',label='Testing Loss')\n",
    "\n",
    "plt.savefig('training_loss_mix_incep.png')\n",
    "plt.legend()\n",
    "plt.show()\n",
    "\n"
   ]
  },
  {
   "cell_type": "code",
   "execution_count": null,
   "metadata": {},
   "outputs": [],
   "source": []
  }
 ],
 "metadata": {
  "kernelspec": {
   "display_name": "Python 3",
   "language": "python",
   "name": "python3"
  },
  "language_info": {
   "codemirror_mode": {
    "name": "ipython",
    "version": 3
   },
   "file_extension": ".py",
   "mimetype": "text/x-python",
   "name": "python",
   "nbconvert_exporter": "python",
   "pygments_lexer": "ipython3",
   "version": "3.7.6"
  }
 },
 "nbformat": 4,
 "nbformat_minor": 4
}
