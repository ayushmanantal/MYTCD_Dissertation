{
 "cells": [
  {
   "cell_type": "code",
   "execution_count": 1,
   "metadata": {},
   "outputs": [],
   "source": [
    "import tensorflow \n",
    "\n",
    "import pandas as pd\n",
    "import numpy as np\n",
    "import os\n",
    "import keras\n",
    "\n",
    "from tensorflow.keras.layers import Dense,GlobalAveragePooling2D, Convolution2D,BatchNormalization\n",
    "from tensorflow.keras.layers import Flatten,MaxPooling2D,Dropout\n",
    "\n",
    "from tensorflow.keras.applications import DenseNet169\n",
    "from tensorflow.keras.applications.densenet import preprocess_input\n",
    "\n",
    "from tensorflow.keras.preprocessing import image\n",
    "from tensorflow.keras.preprocessing.image import ImageDataGenerator,img_to_array\n",
    "\n",
    "from tensorflow.keras.models import Model\n",
    "\n",
    "from tensorflow.keras.optimizers import Adam\n",
    "\n",
    "from tensorflow.keras.callbacks import ModelCheckpoint, ReduceLROnPlateau\n",
    "\n",
    "import warnings\n",
    "warnings.filterwarnings(\"ignore\")"
   ]
  },
  {
   "cell_type": "code",
   "execution_count": 2,
   "metadata": {},
   "outputs": [],
   "source": [
    "model_dense=DenseNet169(weights='imagenet',include_top=False, input_shape=(32, 32, 3)) \n",
    "\n",
    "x = model_dense.output\n",
    "\n",
    "x = GlobalAveragePooling2D()(x)\n",
    "x = BatchNormalization()(x)\n",
    "#x = Dropout(0.5)(x)\n",
    "x = Dense(1024,activation='relu')(x) \n",
    "x = Dense(512,activation='relu')(x) \n",
    "x = BatchNormalization()(x)\n",
    "#x = Dropout(0.5)(x)\n",
    "\n",
    "preds=Dense(108,activation='softmax')(x) #FC-layer"
   ]
  },
  {
   "cell_type": "code",
   "execution_count": 3,
   "metadata": {},
   "outputs": [],
   "source": [
    "model=Model(inputs=model_dense.input,outputs=preds)\n",
    "#model.summary()"
   ]
  },
  {
   "cell_type": "code",
   "execution_count": 4,
   "metadata": {},
   "outputs": [],
   "source": [
    "for layer in model.layers[:-30]:\n",
    "    layer.trainable=False\n",
    "    \n",
    "for layer in model.layers[-30:]:\n",
    "    layer.trainable=True"
   ]
  },
  {
   "cell_type": "code",
   "execution_count": 5,
   "metadata": {},
   "outputs": [],
   "source": [
    "model.compile(optimizer='Adam',loss='categorical_crossentropy',metrics=['accuracy'])\n",
    "#model.summary()"
   ]
  },
  {
   "cell_type": "code",
   "execution_count": 6,
   "metadata": {},
   "outputs": [
    {
     "name": "stdout",
     "output_type": "stream",
     "text": [
      "Found 214603 images belonging to 108 classes.\n"
     ]
    }
   ],
   "source": [
    "#training data directory and parameteres\n",
    "trainDataGen = ImageDataGenerator(\n",
    "                    rotation_range = 5,\n",
    "                    width_shift_range = 0.1,\n",
    "                    height_shift_range = 0.1,\n",
    "                    rescale = 1.0/255,\n",
    "                    shear_range = 0.2,\n",
    "                    zoom_range = 0.2,\n",
    "                    horizontal_flip = False,\n",
    "                    fill_mode = 'nearest',\n",
    "                )\n",
    "\n",
    "testDataGen = ImageDataGenerator(rescale=1.0/255,)\n",
    "\n",
    "\n",
    "train_gen = trainDataGen.flow_from_directory(\n",
    "                    \"data/Train\",\n",
    "                    target_size=(32, 32),\n",
    "                    class_mode=\"categorical\",\n",
    "                    batch_size=32\n",
    "                    )\n"
   ]
  },
  {
   "cell_type": "code",
   "execution_count": 7,
   "metadata": {},
   "outputs": [
    {
     "name": "stdout",
     "output_type": "stream",
     "text": [
      "Found 32400 images belonging to 108 classes.\n"
     ]
    }
   ],
   "source": [
    "#validation data directory and parameteres\n",
    "val_gen = testDataGen.flow_from_directory(\n",
    "                    \"data/Test\",\n",
    "                    target_size=(32, 32),\n",
    "                    class_mode=\"categorical\",\n",
    "                    batch_size=32\n",
    "                    )\n"
   ]
  },
  {
   "cell_type": "code",
   "execution_count": 8,
   "metadata": {},
   "outputs": [],
   "source": [
    "#if no change in validation loss - learning rate will be decreased\n",
    "anne = ReduceLROnPlateau(monitor='val_accuracy', factor=0.5, patience=5, verbose=1, min_lr=1e-3)\n",
    "checkpoint = ModelCheckpoint('model.h5', verbose=1, save_best_only=True)"
   ]
  },
  {
   "cell_type": "code",
   "execution_count": 9,
   "metadata": {},
   "outputs": [
    {
     "name": "stdout",
     "output_type": "stream",
     "text": [
      "Epoch 1/20\n",
      "6706/6706 [==============================] - 505s 75ms/step - loss: 1.4436 - accuracy: 0.5519 - val_loss: 0.9876 - val_accuracy: 0.6695s - loss: 1.444\n",
      "Epoch 2/20\n",
      "6706/6706 [==============================] - 325s 49ms/step - loss: 1.0761 - accuracy: 0.6467 - val_loss: 0.9546 - val_accuracy: 0.6841\n",
      "Epoch 3/20\n",
      "6706/6706 [==============================] - 324s 48ms/step - loss: 0.9657 - accuracy: 0.6766 - val_loss: 0.8269 - val_accuracy: 0.7170\n",
      "Epoch 4/20\n",
      "6706/6706 [==============================] - 332s 50ms/step - loss: 0.9082 - accuracy: 0.6924 - val_loss: 0.7875 - val_accuracy: 0.7271\n",
      "Epoch 5/20\n",
      "6706/6706 [==============================] - 320s 48ms/step - loss: 0.8667 - accuracy: 0.7050 - val_loss: 0.7818 - val_accuracy: 0.7297\n",
      "Epoch 6/20\n",
      "6706/6706 [==============================] - 314s 47ms/step - loss: 0.8342 - accuracy: 0.7128 - val_loss: 0.7354 - val_accuracy: 0.7426\n",
      "Epoch 7/20\n",
      "6706/6706 [==============================] - 315s 47ms/step - loss: 0.8159 - accuracy: 0.7184 - val_loss: 0.7143 - val_accuracy: 0.7509acy: 0.71\n",
      "Epoch 8/20\n",
      "6706/6706 [==============================] - 314s 47ms/step - loss: 0.7909 - accuracy: 0.7244 - val_loss: 0.6960 - val_accuracy: 0.7499\n",
      "Epoch 9/20\n",
      "6706/6706 [==============================] - 313s 47ms/step - loss: 0.7778 - accuracy: 0.7296 - val_loss: 0.7072 - val_accuracy: 0.7491\n",
      "Epoch 10/20\n",
      "6706/6706 [==============================] - 317s 47ms/step - loss: 0.7657 - accuracy: 0.7331 - val_loss: 0.6912 - val_accuracy: 0.7586\n",
      "Epoch 11/20\n",
      "6706/6706 [==============================] - 308s 46ms/step - loss: 0.7526 - accuracy: 0.7355 - val_loss: 0.6757 - val_accuracy: 0.7598\n",
      "Epoch 12/20\n",
      "6706/6706 [==============================] - 314s 47ms/step - loss: 0.7414 - accuracy: 0.7397 - val_loss: 0.6683 - val_accuracy: 0.7610\n",
      "Epoch 13/20\n",
      "6706/6706 [==============================] - 306s 46ms/step - loss: 0.7349 - accuracy: 0.7405 - val_loss: 0.6912 - val_accuracy: 0.7533\n",
      "Epoch 14/20\n",
      "6706/6706 [==============================] - 308s 46ms/step - loss: 0.7246 - accuracy: 0.7435 - val_loss: 0.6462 - val_accuracy: 0.7679\n",
      "Epoch 15/20\n",
      "6706/6706 [==============================] - 316s 47ms/step - loss: 0.7139 - accuracy: 0.7477 - val_loss: 0.6451 - val_accuracy: 0.7678\n",
      "Epoch 16/20\n",
      "6706/6706 [==============================] - 312s 47ms/step - loss: 0.7098 - accuracy: 0.7480 - val_loss: 0.6360 - val_accuracy: 0.7737\n",
      "Epoch 17/20\n",
      "6706/6706 [==============================] - 313s 47ms/step - loss: 0.7024 - accuracy: 0.7504 - val_loss: 0.6393 - val_accuracy: 0.7702\n",
      "Epoch 18/20\n",
      "6706/6706 [==============================] - 306s 46ms/step - loss: 0.6975 - accuracy: 0.7507 - val_loss: 0.6474 - val_accuracy: 0.7692\n",
      "Epoch 19/20\n",
      "6706/6706 [==============================] - 310s 46ms/step - loss: 0.6918 - accuracy: 0.7535 - val_loss: 0.6302 - val_accuracy: 0.7712\n",
      "Epoch 20/20\n",
      "6706/6706 [==============================] - 314s 47ms/step - loss: 0.6858 - accuracy: 0.7543 - val_loss: 0.6364 - val_accuracy: 0.7751\n"
     ]
    }
   ],
   "source": [
    "densenet169 = model.fit(\n",
    "        train_gen,\n",
    "        epochs = 20,\n",
    "        steps_per_epoch = 6706,\n",
    "        validation_data = val_gen,\n",
    "        validation_steps = 1013\n",
    "        )"
   ]
  },
  {
   "cell_type": "code",
   "execution_count": 10,
   "metadata": {},
   "outputs": [],
   "source": [
    "model.save(\"DenseNetModel.h5\")"
   ]
  },
  {
   "cell_type": "code",
   "execution_count": 11,
   "metadata": {},
   "outputs": [],
   "source": [
    "%matplotlib inline\n",
    "accu=densenet169.history['accuracy']\n",
    "val_acc=densenet169.history['val_accuracy']\n",
    "loss=densenet169.history['loss']\n",
    "val_loss=densenet169.history['val_loss']\n",
    "\n",
    "epochs=range(len(accu)) #No. of epochs\n",
    "\n"
   ]
  },
  {
   "cell_type": "code",
   "execution_count": 12,
   "metadata": {},
   "outputs": [
    {
     "data": {
      "image/png": "[encoded data removed]",
      "text/plain": [
       "<Figure size 432x288 with 1 Axes>"
      ]
     },
     "metadata": {
      "needs_background": "light"
     },
     "output_type": "display_data"
    },
    {
     "data": {
      "image/png": "[encoded data removed]",
      "text/plain": [
       "<Figure size 432x288 with 1 Axes>"
      ]
     },
     "metadata": {
      "needs_background": "light"
     },
     "output_type": "display_data"
    }
   ],
   "source": [
    "import matplotlib.pyplot as plt\n",
    "plt.plot(epochs,accu,'r',label='Training Accuracy')\n",
    "plt.plot(epochs,val_acc,'g',label='Testing Accuracy')\n",
    "\n",
    "plt.savefig('training_den169_mix.png')\n",
    "plt.legend()\n",
    "plt.figure()\n",
    "\n",
    "#Plot training and validation loss per epoch\n",
    "plt.plot(epochs,loss,'r',label='Training Loss')\n",
    "plt.plot(epochs,val_loss,'g',label='Testing Loss')\n",
    "\n",
    "plt.savefig('loss_den169_mix.png')\n",
    "plt.legend()\n",
    "plt.show()\n",
    "\n"
   ]
  },
  {
   "cell_type": "code",
   "execution_count": null,
   "metadata": {},
   "outputs": [],
   "source": []
  }
 ],
 "metadata": {
  "kernelspec": {
   "display_name": "Python 3",
   "language": "python",
   "name": "python3"
  },
  "language_info": {
   "codemirror_mode": {
    "name": "ipython",
    "version": 3
   },
   "file_extension": ".py",
   "mimetype": "text/x-python",
   "name": "python",
   "nbconvert_exporter": "python",
   "pygments_lexer": "ipython3",
   "version": "3.7.6"
  }
 },
 "nbformat": 4,
 "nbformat_minor": 4
}
