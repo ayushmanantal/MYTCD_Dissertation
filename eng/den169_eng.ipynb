{
 "cells": [
  {
   "cell_type": "code",
   "execution_count": 1,
   "metadata": {},
   "outputs": [],
   "source": [
    "import tensorflow \n",
    "\n",
    "import pandas as pd\n",
    "import numpy as np\n",
    "import os\n",
    "import keras\n",
    "\n",
    "from tensorflow.keras.layers import Dense,GlobalAveragePooling2D, Convolution2D,BatchNormalization\n",
    "from tensorflow.keras.layers import Flatten,MaxPooling2D,Dropout\n",
    "\n",
    "from tensorflow.keras.applications import DenseNet169\n",
    "from tensorflow.keras.applications.densenet import preprocess_input\n",
    "\n",
    "from tensorflow.keras.preprocessing import image\n",
    "from tensorflow.keras.preprocessing.image import ImageDataGenerator,img_to_array\n",
    "\n",
    "from tensorflow.keras.models import Model\n",
    "\n",
    "from tensorflow.keras.optimizers import Adam\n",
    "\n",
    "from tensorflow.keras.callbacks import ModelCheckpoint, ReduceLROnPlateau\n",
    "\n",
    "import warnings\n",
    "warnings.filterwarnings(\"ignore\")"
   ]
  },
  {
   "cell_type": "code",
   "execution_count": 2,
   "metadata": {},
   "outputs": [],
   "source": [
    "model_dense=DenseNet169(weights='imagenet',include_top=False, input_shape=(32, 32, 3)) \n",
    "\n",
    "x = model_dense.output\n",
    "\n",
    "x = GlobalAveragePooling2D()(x)\n",
    "x = BatchNormalization()(x)\n",
    "#x = Dropout(0.5)(x)\n",
    "x = Dense(1024,activation='relu')(x) \n",
    "x = Dense(512,activation='relu')(x) \n",
    "x = BatchNormalization()(x)\n",
    "#x = Dropout(0.5)(x)\n",
    "\n",
    "preds=Dense(62,activation='softmax')(x) #FC-layer"
   ]
  },
  {
   "cell_type": "code",
   "execution_count": 3,
   "metadata": {},
   "outputs": [],
   "source": [
    "model=Model(inputs=model_dense.input,outputs=preds)\n",
    "#model.summary()"
   ]
  },
  {
   "cell_type": "code",
   "execution_count": 4,
   "metadata": {},
   "outputs": [],
   "source": [
    "for layer in model.layers[:-30]:\n",
    "    layer.trainable=False\n",
    "    \n",
    "for layer in model.layers[-30:]:\n",
    "    layer.trainable=True"
   ]
  },
  {
   "cell_type": "code",
   "execution_count": 5,
   "metadata": {},
   "outputs": [],
   "source": [
    "model.compile(optimizer='Adam',loss='categorical_crossentropy',metrics=['accuracy'])\n",
    "#model.summary()"
   ]
  },
  {
   "cell_type": "code",
   "execution_count": 6,
   "metadata": {},
   "outputs": [
    {
     "name": "stdout",
     "output_type": "stream",
     "text": [
      "Found 136400 images belonging to 62 classes.\n"
     ]
    }
   ],
   "source": [
    "#training data directory and parameteres\n",
    "trainDataGen = ImageDataGenerator(\n",
    "                    rotation_range = 5,\n",
    "                    width_shift_range = 0.1,\n",
    "                    height_shift_range = 0.1,\n",
    "                    rescale = 1.0/255,\n",
    "                    shear_range = 0.2,\n",
    "                    zoom_range = 0.2,\n",
    "                    horizontal_flip = False,\n",
    "                    fill_mode = 'nearest',\n",
    "                )\n",
    "\n",
    "testDataGen = ImageDataGenerator(rescale=1.0/255,)\n",
    "\n",
    "\n",
    "train_gen = trainDataGen.flow_from_directory(\n",
    "                    \"data/Train\",\n",
    "                    target_size=(32, 32),\n",
    "                    class_mode=\"categorical\",\n",
    "                    batch_size=32\n",
    "                    )\n"
   ]
  },
  {
   "cell_type": "code",
   "execution_count": 7,
   "metadata": {},
   "outputs": [
    {
     "name": "stdout",
     "output_type": "stream",
     "text": [
      "Found 18600 images belonging to 62 classes.\n"
     ]
    }
   ],
   "source": [
    "#validation data directory and parameteres\n",
    "val_gen = testDataGen.flow_from_directory(\n",
    "                    \"data/Test\",\n",
    "                    target_size=(32, 32),\n",
    "                    class_mode=\"categorical\",\n",
    "                    batch_size=32\n",
    "                    )\n"
   ]
  },
  {
   "cell_type": "code",
   "execution_count": 8,
   "metadata": {},
   "outputs": [],
   "source": [
    "#if no change in validation loss - learning rate will be decreased\n",
    "anne = ReduceLROnPlateau(monitor='val_accuracy', factor=0.5, patience=5, verbose=1, min_lr=1e-3)\n",
    "checkpoint = ModelCheckpoint('model.h5', verbose=1, save_best_only=True)"
   ]
  },
  {
   "cell_type": "code",
   "execution_count": 10,
   "metadata": {},
   "outputs": [
    {
     "name": "stdout",
     "output_type": "stream",
     "text": [
      "Epoch 1/30\n",
      "4263/4263 [==============================] - 336s 79ms/step - loss: 1.6438 - accuracy: 0.4838 - val_loss: 1.4145 - val_accuracy: 0.5273\n",
      "Epoch 2/30\n",
      "4263/4263 [==============================] - 200s 47ms/step - loss: 1.3039 - accuracy: 0.5617 - val_loss: 1.2640 - val_accuracy: 0.5592\n",
      "Epoch 3/30\n",
      "4263/4263 [==============================] - 197s 46ms/step - loss: 1.2027 - accuracy: 0.5875 - val_loss: 1.2185 - val_accuracy: 0.5775\n",
      "Epoch 4/30\n",
      "4263/4263 [==============================] - 200s 47ms/step - loss: 1.1479 - accuracy: 0.6020 - val_loss: 1.1192 - val_accuracy: 0.6008\n",
      "Epoch 5/30\n",
      "4263/4263 [==============================] - 199s 47ms/step - loss: 1.1051 - accuracy: 0.6128 - val_loss: 1.1098 - val_accuracy: 0.6082\n",
      "Epoch 6/30\n",
      "4263/4263 [==============================] - 201s 47ms/step - loss: 1.0730 - accuracy: 0.6213 - val_loss: 1.0419 - val_accuracy: 0.6194\n",
      "Epoch 7/30\n",
      "4263/4263 [==============================] - 205s 48ms/step - loss: 1.0496 - accuracy: 0.6280 - val_loss: 1.0965 - val_accuracy: 0.6037\n",
      "Epoch 8/30\n",
      "4263/4263 [==============================] - 199s 47ms/step - loss: 1.0331 - accuracy: 0.6322 - val_loss: 1.0481 - val_accuracy: 0.6221\n",
      "Epoch 9/30\n",
      "4263/4263 [==============================] - 194s 46ms/step - loss: 1.0164 - accuracy: 0.6379 - val_loss: 1.0250 - val_accuracy: 0.6311\n",
      "Epoch 10/30\n",
      "4263/4263 [==============================] - 192s 45ms/step - loss: 0.9996 - accuracy: 0.6413 - val_loss: 1.0291 - val_accuracy: 0.6216\n",
      "Epoch 11/30\n",
      "4263/4263 [==============================] - 194s 45ms/step - loss: 0.9841 - accuracy: 0.6457 - val_loss: 0.9816 - val_accuracy: 0.6382\n",
      "Epoch 12/30\n",
      "4263/4263 [==============================] - 185s 43ms/step - loss: 0.9739 - accuracy: 0.6506 - val_loss: 0.9997 - val_accuracy: 0.6377\n",
      "Epoch 13/30\n",
      "4263/4263 [==============================] - 206s 48ms/step - loss: 0.9673 - accuracy: 0.6524 - val_loss: 1.0023 - val_accuracy: 0.6368\n",
      "Epoch 14/30\n",
      "4263/4263 [==============================] - 188s 44ms/step - loss: 0.9579 - accuracy: 0.6530 - val_loss: 0.9603 - val_accuracy: 0.6434\n",
      "Epoch 15/30\n",
      "4263/4263 [==============================] - 188s 44ms/step - loss: 0.9475 - accuracy: 0.6568 - val_loss: 0.9686 - val_accuracy: 0.6467\n",
      "Epoch 16/30\n",
      "4263/4263 [==============================] - 189s 44ms/step - loss: 0.9414 - accuracy: 0.6576 - val_loss: 1.0016 - val_accuracy: 0.6351\n",
      "Epoch 17/30\n",
      "4263/4263 [==============================] - 193s 45ms/step - loss: 0.9355 - accuracy: 0.6611 - val_loss: 0.9505 - val_accuracy: 0.6513\n",
      "Epoch 18/30\n",
      "4263/4263 [==============================] - 194s 45ms/step - loss: 0.9294 - accuracy: 0.6615 - val_loss: 0.9480 - val_accuracy: 0.6475\n",
      "Epoch 19/30\n",
      "4263/4263 [==============================] - 194s 46ms/step - loss: 0.9248 - accuracy: 0.6626 - val_loss: 0.9747 - val_accuracy: 0.6427\n",
      "Epoch 20/30\n",
      "4263/4263 [==============================] - 195s 46ms/step - loss: 0.9194 - accuracy: 0.6653 - val_loss: 0.9622 - val_accuracy: 0.6436\n",
      "Epoch 21/30\n",
      "4263/4263 [==============================] - 184s 43ms/step - loss: 0.9124 - accuracy: 0.6654 - val_loss: 0.9632 - val_accuracy: 0.6479\n",
      "Epoch 22/30\n",
      "4263/4263 [==============================] - 202s 47ms/step - loss: 0.9094 - accuracy: 0.6685 - val_loss: 0.9693 - val_accuracy: 0.6424\n",
      "Epoch 23/30\n",
      "4263/4263 [==============================] - 193s 45ms/step - loss: 0.9035 - accuracy: 0.6697 - val_loss: 0.9756 - val_accuracy: 0.6391\n",
      "Epoch 24/30\n",
      "4263/4263 [==============================] - 211s 49ms/step - loss: 0.8955 - accuracy: 0.6709 - val_loss: 0.9368 - val_accuracy: 0.6568\n",
      "Epoch 25/30\n",
      "4263/4263 [==============================] - 194s 46ms/step - loss: 0.8961 - accuracy: 0.6697 - val_loss: 0.9127 - val_accuracy: 0.6555\n",
      "Epoch 26/30\n",
      "4263/4263 [==============================] - 197s 46ms/step - loss: 0.8876 - accuracy: 0.6727 - val_loss: 0.9646 - val_accuracy: 0.6405\n",
      "Epoch 27/30\n",
      "4263/4263 [==============================] - 208s 49ms/step - loss: 0.8888 - accuracy: 0.6728 - val_loss: 0.9670 - val_accuracy: 0.6458\n",
      "Epoch 28/30\n",
      "4263/4263 [==============================] - 195s 46ms/step - loss: 0.8836 - accuracy: 0.6751 - val_loss: 0.9330 - val_accuracy: 0.6479\n",
      "Epoch 29/30\n",
      "4263/4263 [==============================] - 199s 47ms/step - loss: 0.8815 - accuracy: 0.6747 - val_loss: 0.9539 - val_accuracy: 0.6453\n",
      "Epoch 30/30\n",
      "4263/4263 [==============================] - 199s 47ms/step - loss: 0.8829 - accuracy: 0.6741 - val_loss: 0.9432 - val_accuracy: 0.6588\n"
     ]
    }
   ],
   "source": [
    "densenet169 = model.fit(\n",
    "        train_gen,\n",
    "        epochs = 30,\n",
    "        steps_per_epoch = 4263,\n",
    "        validation_data = val_gen,\n",
    "        validation_steps = 582\n",
    "        )"
   ]
  },
  {
   "cell_type": "code",
   "execution_count": 11,
   "metadata": {},
   "outputs": [],
   "source": [
    "model.save(\"DenseNetModel_eng.h5\")"
   ]
  },
  {
   "cell_type": "code",
   "execution_count": 12,
   "metadata": {},
   "outputs": [],
   "source": [
    "%matplotlib inline\n",
    "accu=densenet169.history['accuracy']\n",
    "val_acc=densenet169.history['val_accuracy']\n",
    "loss=densenet169.history['loss']\n",
    "val_loss=densenet169.history['val_loss']\n",
    "\n",
    "epochs=range(len(accu)) #No. of epochs\n",
    "\n"
   ]
  },
  {
   "cell_type": "code",
   "execution_count": 13,
   "metadata": {},
   "outputs": [
    {
     "data": {
      "image/png": "[encoded data removed]",
      "text/plain": [
       "<Figure size 432x288 with 1 Axes>"
      ]
     },
     "metadata": {
      "needs_background": "light"
     },
     "output_type": "display_data"
    },
    {
     "data": {
      "image/png": "[encoded data removed]",
      "text/plain": [
       "<Figure size 432x288 with 1 Axes>"
      ]
     },
     "metadata": {
      "needs_background": "light"
     },
     "output_type": "display_data"
    }
   ],
   "source": [
    "import matplotlib.pyplot as plt\n",
    "plt.plot(epochs,accu,'r',label='Training Accuracy')\n",
    "plt.plot(epochs,val_acc,'g',label='Testing Accuracy')\n",
    "\n",
    "plt.savefig('training_den169_eng.png')\n",
    "plt.legend()\n",
    "plt.figure()\n",
    "\n",
    "#Plot training and validation loss per epoch\n",
    "plt.plot(epochs,loss,'r',label='Training Loss')\n",
    "plt.plot(epochs,val_loss,'g',label='Testing Loss')\n",
    "\n",
    "plt.savefig('loss_den169_eng.png')\n",
    "plt.legend()\n",
    "plt.show()\n",
    "\n"
   ]
  },
  {
   "cell_type": "code",
   "execution_count": null,
   "metadata": {},
   "outputs": [],
   "source": []
  }
 ],
 "metadata": {
  "kernelspec": {
   "display_name": "Python 3",
   "language": "python",
   "name": "python3"
  },
  "language_info": {
   "codemirror_mode": {
    "name": "ipython",
    "version": 3
   },
   "file_extension": ".py",
   "mimetype": "text/x-python",
   "name": "python",
   "nbconvert_exporter": "python",
   "pygments_lexer": "ipython3",
   "version": "3.7.6"
  }
 },
 "nbformat": 4,
 "nbformat_minor": 4
}
