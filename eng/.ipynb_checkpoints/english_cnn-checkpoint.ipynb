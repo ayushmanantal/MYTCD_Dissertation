{
 "cells": [
  {
   "cell_type": "code",
   "execution_count": 2,
   "metadata": {},
   "outputs": [],
   "source": [
    "#importing packages\n",
    "import os\n",
    "import h5py\n",
    "import tensorflow as tf\n",
    "import numpy as np\n",
    "from keras.preprocessing.image import ImageDataGenerator\n",
    "from keras import optimizers\n",
    "from tensorflow.keras.models import Sequential\n",
    "from tensorflow.keras.layers import Convolution2D, MaxPooling2D, Activation, SpatialDropout2D, Dropout, Flatten, Dense, BatchNormalization\n",
    "from tensorflow.keras.callbacks import ModelCheckpoint, ReduceLROnPlateau"
   ]
  },
  {
   "cell_type": "code",
   "execution_count": 3,
   "metadata": {},
   "outputs": [
    {
     "name": "stdout",
     "output_type": "stream",
     "text": [
      "Found 136400 images belonging to 62 classes.\n"
     ]
    }
   ],
   "source": [
    "#training data directory and parameteres\n",
    "trainDataGen = ImageDataGenerator(\n",
    "                    rotation_range = 5,\n",
    "                    width_shift_range = 0.1,\n",
    "                    height_shift_range = 0.1,\n",
    "                    rescale = 1.0/255,\n",
    "                    shear_range = 0.2,\n",
    "                    zoom_range = 0.2,\t\t\n",
    "                    horizontal_flip = False,\n",
    "                    fill_mode = 'nearest',\n",
    "                )\n",
    "\n",
    "testDataGen = ImageDataGenerator(rescale=1.0/255,)\n",
    "\n",
    "\n",
    "train_gen = trainDataGen.flow_from_directory(\n",
    "                    \"data/Train\",\n",
    "                    target_size=(32, 32),\n",
    "                    color_mode=\"grayscale\",\n",
    "                    class_mode=\"categorical\",\n",
    "                    batch_size=32\n",
    "                    )\n",
    "\n"
   ]
  },
  {
   "cell_type": "code",
   "execution_count": 4,
   "metadata": {},
   "outputs": [
    {
     "name": "stdout",
     "output_type": "stream",
     "text": [
      "Found 18600 images belonging to 62 classes.\n"
     ]
    }
   ],
   "source": [
    "#validation data directory and parameteres\n",
    "val_gen = testDataGen.flow_from_directory(\n",
    "                    \"data/Test\",\n",
    "                    target_size=(32, 32),\n",
    "                    color_mode=\"grayscale\",\n",
    "                    class_mode=\"categorical\",\n",
    "                    batch_size=32\n",
    "                    )\n"
   ]
  },
  {
   "cell_type": "code",
   "execution_count": 5,
   "metadata": {},
   "outputs": [],
   "source": [
    "#Adding CNN Layers\n",
    "model = Sequential()\n",
    "\n",
    "#Layer1 -------- 32 ----------------------------------------------------------\n",
    "model.add(Convolution2D(filters = 32,kernel_size = (3,3),padding='same', activation = \"relu\",\n",
    "            input_shape = (32,32,1)))\n",
    "\n",
    "model.add(BatchNormalization())\n",
    "\n",
    "model.add(SpatialDropout2D(0.4))\n",
    "\n",
    "#Layer2 ---- 32 -------------------------------------------------------------\n",
    "model.add(Convolution2D(filters = 32,kernel_size = (3,3), activation = \"relu\"))\n",
    "\n",
    "model.add(BatchNormalization())\n",
    "\n",
    "model.add(MaxPooling2D(pool_size=(2, 2)))\n",
    "\n",
    "#strides=(2, 2),padding=\"same\")\n",
    "\n",
    "#Layers 3 ------- 64 -----------------------------------------------------------\t\n",
    "model.add(Convolution2D(filters = 64,kernel_size = (3,3),padding='same', activation = \"relu\"))\n",
    "\n",
    "model.add(BatchNormalization())\n",
    "\n",
    "model.add(SpatialDropout2D(0.4))\n",
    "\n",
    "#Layer 4 --------- 64 --------------------------------------------------\n",
    "model.add(Convolution2D(filters = 64,kernel_size = (3,3),activation = \"relu\"))\n",
    "\n",
    "model.add(BatchNormalization())\n",
    "\n",
    "model.add(MaxPooling2D(pool_size=(2, 2)))\n",
    "\n",
    "#Layer 5 ---------- 128 -----------------------------------------------\n",
    "model.add(Convolution2D(filters = 128,kernel_size = (3,3),padding='same',activation = \"relu\"))\n",
    "\n",
    "model.add(BatchNormalization())\n",
    "\n",
    "model.add(SpatialDropout2D(0.4))\n",
    "\n",
    "#Layer 6 ---------- 128 ------------------------------------------------\n",
    "model.add(Convolution2D(filters = 128,kernel_size = (3,3),activation = \"relu\"))\n",
    "\n",
    "model.add(BatchNormalization())\n",
    "\n",
    "model.add(MaxPooling2D(pool_size=(2, 2)))\n",
    "\n",
    "#Flattening Data\n",
    "model.add(Flatten())\n",
    "\n",
    "#Adding hidden layers\n",
    "\n",
    "#Hidden layer - 1\n",
    "model.add(Dense(786,activation = \"relu\"))\n",
    "\n",
    "model.add(Dropout(0.4))\n",
    "\n",
    "model.add(Dense(100,activation = \"relu\"))\n",
    "\n",
    "model.add(Dense(100,activation = \"relu\"))\n",
    "\n",
    "model.add(Dense(100,activation = \"relu\"))\n",
    "\n",
    "#Output Layer\n",
    "model.add(Dense(62,activation = \"softmax\"))"
   ]
  },
  {
   "cell_type": "code",
   "execution_count": 6,
   "metadata": {},
   "outputs": [
    {
     "name": "stdout",
     "output_type": "stream",
     "text": [
      "Model: \"sequential\"\n",
      "_________________________________________________________________\n",
      "Layer (type)                 Output Shape              Param #   \n",
      "=================================================================\n",
      "conv2d (Conv2D)              (None, 32, 32, 32)        320       \n",
      "_________________________________________________________________\n",
      "batch_normalization (BatchNo (None, 32, 32, 32)        128       \n",
      "_________________________________________________________________\n",
      "spatial_dropout2d (SpatialDr (None, 32, 32, 32)        0         \n",
      "_________________________________________________________________\n",
      "conv2d_1 (Conv2D)            (None, 30, 30, 32)        9248      \n",
      "_________________________________________________________________\n",
      "batch_normalization_1 (Batch (None, 30, 30, 32)        128       \n",
      "_________________________________________________________________\n",
      "max_pooling2d (MaxPooling2D) (None, 15, 15, 32)        0         \n",
      "_________________________________________________________________\n",
      "conv2d_2 (Conv2D)            (None, 15, 15, 64)        18496     \n",
      "_________________________________________________________________\n",
      "batch_normalization_2 (Batch (None, 15, 15, 64)        256       \n",
      "_________________________________________________________________\n",
      "spatial_dropout2d_1 (Spatial (None, 15, 15, 64)        0         \n",
      "_________________________________________________________________\n",
      "conv2d_3 (Conv2D)            (None, 13, 13, 64)        36928     \n",
      "_________________________________________________________________\n",
      "batch_normalization_3 (Batch (None, 13, 13, 64)        256       \n",
      "_________________________________________________________________\n",
      "max_pooling2d_1 (MaxPooling2 (None, 6, 6, 64)          0         \n",
      "_________________________________________________________________\n",
      "conv2d_4 (Conv2D)            (None, 6, 6, 128)         73856     \n",
      "_________________________________________________________________\n",
      "batch_normalization_4 (Batch (None, 6, 6, 128)         512       \n",
      "_________________________________________________________________\n",
      "spatial_dropout2d_2 (Spatial (None, 6, 6, 128)         0         \n",
      "_________________________________________________________________\n",
      "conv2d_5 (Conv2D)            (None, 4, 4, 128)         147584    \n",
      "_________________________________________________________________\n",
      "batch_normalization_5 (Batch (None, 4, 4, 128)         512       \n",
      "_________________________________________________________________\n",
      "max_pooling2d_2 (MaxPooling2 (None, 2, 2, 128)         0         \n",
      "_________________________________________________________________\n",
      "flatten (Flatten)            (None, 512)               0         \n",
      "_________________________________________________________________\n",
      "dense (Dense)                (None, 786)               403218    \n",
      "_________________________________________________________________\n",
      "dropout (Dropout)            (None, 786)               0         \n",
      "_________________________________________________________________\n",
      "dense_1 (Dense)              (None, 100)               78700     \n",
      "_________________________________________________________________\n",
      "dense_2 (Dense)              (None, 100)               10100     \n",
      "_________________________________________________________________\n",
      "dense_3 (Dense)              (None, 100)               10100     \n",
      "_________________________________________________________________\n",
      "dense_4 (Dense)              (None, 62)                6262      \n",
      "=================================================================\n",
      "Total params: 796,604\n",
      "Trainable params: 795,708\n",
      "Non-trainable params: 896\n",
      "_________________________________________________________________\n",
      "None\n"
     ]
    }
   ],
   "source": [
    "# Compile the model\n",
    "\n",
    "#opt = tf.keras.optimizers.RMSprop(learning_rate=0.0001)\n",
    "opt = tf.keras.optimizers.Adam()\n",
    "#opt = tf.keras.optimizers.Nadam(lr=0.002, beta_1=0.9, beta_2=0.999, epsilon=None, schedule_decay=0.004)\n",
    "model.compile(optimizer = opt,\n",
    "              loss = \"categorical_crossentropy\",\n",
    "              metrics = [\"accuracy\"])\n",
    "\n",
    "print(model.summary())"
   ]
  },
  {
   "cell_type": "code",
   "execution_count": 7,
   "metadata": {},
   "outputs": [],
   "source": [
    "#if no change in validation loss - learning rate will be decreased\n",
    "anne = ReduceLROnPlateau(monitor='val_accuracy', factor=0.5, patience=5, verbose=1, min_lr=1e-3)\n",
    "checkpoint = ModelCheckpoint('model.h5', verbose=1, save_best_only=True)"
   ]
  },
  {
   "cell_type": "code",
   "execution_count": 8,
   "metadata": {},
   "outputs": [
    {
     "name": "stdout",
     "output_type": "stream",
     "text": [
      "Epoch 1/30\n",
      "4263/4263 [==============================] - 265s 62ms/step - loss: 1.8474 - accuracy: 0.4320 - val_loss: 0.9591 - val_accuracy: 0.6289\n",
      "Epoch 2/30\n",
      "4263/4263 [==============================] - 125s 29ms/step - loss: 1.0639 - accuracy: 0.6177 - val_loss: 0.7836 - val_accuracy: 0.6853\n",
      "Epoch 3/30\n",
      "4263/4263 [==============================] - 127s 30ms/step - loss: 0.9579 - accuracy: 0.6507 - val_loss: 0.8128 - val_accuracy: 0.6814\n",
      "Epoch 4/30\n",
      "4263/4263 [==============================] - 129s 30ms/step - loss: 0.9077 - accuracy: 0.6643 - val_loss: 0.7499 - val_accuracy: 0.6965\n",
      "Epoch 5/30\n",
      "4263/4263 [==============================] - 129s 30ms/step - loss: 0.8732 - accuracy: 0.6770 - val_loss: 0.7138 - val_accuracy: 0.7180\n",
      "Epoch 6/30\n",
      "4263/4263 [==============================] - 148s 35ms/step - loss: 0.8497 - accuracy: 0.6828 - val_loss: 0.6993 - val_accuracy: 0.7179\n",
      "Epoch 7/30\n",
      "4263/4263 [==============================] - 142s 33ms/step - loss: 0.8277 - accuracy: 0.6905 - val_loss: 0.6974 - val_accuracy: 0.7220\n",
      "Epoch 8/30\n",
      "4263/4263 [==============================] - 146s 34ms/step - loss: 0.8128 - accuracy: 0.6937 - val_loss: 0.6809 - val_accuracy: 0.7181\n",
      "Epoch 9/30\n",
      "4263/4263 [==============================] - 148s 35ms/step - loss: 0.7992 - accuracy: 0.6983 - val_loss: 0.6722 - val_accuracy: 0.7237\n",
      "Epoch 10/30\n",
      "4263/4263 [==============================] - 140s 33ms/step - loss: 0.7846 - accuracy: 0.7027 - val_loss: 0.6760 - val_accuracy: 0.7248\n",
      "Epoch 11/30\n",
      "4263/4263 [==============================] - 138s 32ms/step - loss: 0.7733 - accuracy: 0.7057 - val_loss: 0.6634 - val_accuracy: 0.7317\n",
      "Epoch 12/30\n",
      "4263/4263 [==============================] - 131s 31ms/step - loss: 0.7647 - accuracy: 0.7096 - val_loss: 0.6636 - val_accuracy: 0.7269\n",
      "Epoch 13/30\n",
      "4263/4263 [==============================] - 131s 31ms/step - loss: 0.7561 - accuracy: 0.7105 - val_loss: 0.6452 - val_accuracy: 0.7372\n",
      "Epoch 14/30\n",
      "4263/4263 [==============================] - 128s 30ms/step - loss: 0.7452 - accuracy: 0.7127 - val_loss: 0.6465 - val_accuracy: 0.7283\n",
      "Epoch 15/30\n",
      "4263/4263 [==============================] - 133s 31ms/step - loss: 0.7410 - accuracy: 0.7150 - val_loss: 0.6606 - val_accuracy: 0.7279\n",
      "Epoch 16/30\n",
      "4263/4263 [==============================] - 131s 31ms/step - loss: 0.7367 - accuracy: 0.7171 - val_loss: 0.6550 - val_accuracy: 0.7311\n",
      "Epoch 17/30\n",
      "4263/4263 [==============================] - 127s 30ms/step - loss: 0.7334 - accuracy: 0.7174 - val_loss: 0.6584 - val_accuracy: 0.7373\n",
      "Epoch 18/30\n",
      "4263/4263 [==============================] - 126s 30ms/step - loss: 0.7322 - accuracy: 0.7182 - val_loss: 0.6569 - val_accuracy: 0.7227\n",
      "Epoch 19/30\n",
      "4263/4263 [==============================] - 128s 30ms/step - loss: 0.7269 - accuracy: 0.7197 - val_loss: 0.6549 - val_accuracy: 0.7277\n",
      "Epoch 20/30\n",
      "4263/4263 [==============================] - 127s 30ms/step - loss: 0.7214 - accuracy: 0.7208 - val_loss: 0.6485 - val_accuracy: 0.7389\n",
      "Epoch 21/30\n",
      "4263/4263 [==============================] - 131s 31ms/step - loss: 0.7247 - accuracy: 0.7215 - val_loss: 0.6394 - val_accuracy: 0.7349\n",
      "Epoch 22/30\n",
      "4263/4263 [==============================] - 129s 30ms/step - loss: 0.7149 - accuracy: 0.7230 - val_loss: 0.6487 - val_accuracy: 0.7394\n",
      "Epoch 23/30\n",
      "4263/4263 [==============================] - 132s 31ms/step - loss: 0.7153 - accuracy: 0.7224 - val_loss: 0.6332 - val_accuracy: 0.7344\n",
      "Epoch 24/30\n",
      "4263/4263 [==============================] - 135s 32ms/step - loss: 0.7150 - accuracy: 0.7239 - val_loss: 0.6751 - val_accuracy: 0.7317\n",
      "Epoch 25/30\n",
      "4263/4263 [==============================] - 137s 32ms/step - loss: 0.7159 - accuracy: 0.7223 - val_loss: 0.6352 - val_accuracy: 0.7315\n",
      "Epoch 26/30\n",
      "4263/4263 [==============================] - 143s 34ms/step - loss: 0.7102 - accuracy: 0.7267 - val_loss: 0.6258 - val_accuracy: 0.7444\n",
      "Epoch 27/30\n",
      "4263/4263 [==============================] - 136s 32ms/step - loss: 0.7094 - accuracy: 0.7261 - val_loss: 0.6441 - val_accuracy: 0.7353\n",
      "Epoch 28/30\n",
      "4263/4263 [==============================] - 136s 32ms/step - loss: 0.7087 - accuracy: 0.7250 - val_loss: 0.6375 - val_accuracy: 0.7388\n",
      "Epoch 29/30\n",
      "4263/4263 [==============================] - 144s 34ms/step - loss: 0.7063 - accuracy: 0.7272 - val_loss: 0.6338 - val_accuracy: 0.7418\n",
      "Epoch 30/30\n",
      "4263/4263 [==============================] - 136s 32ms/step - loss: 0.7004 - accuracy: 0.7286 - val_loss: 0.6482 - val_accuracy: 0.7319\n"
     ]
    }
   ],
   "source": [
    "#fitting the model\n",
    "eng_cnn = model.fit(\n",
    "        train_gen,\n",
    "        epochs = 30,\n",
    "        steps_per_epoch = 4263,\n",
    "        validation_data = val_gen,\n",
    "        validation_steps = 582\n",
    "        )"
   ]
  },
  {
   "cell_type": "code",
   "execution_count": 9,
   "metadata": {},
   "outputs": [],
   "source": [
    "#saving the model\n",
    "model.save(\"EnglishModel-72.h5\")"
   ]
  },
  {
   "cell_type": "code",
   "execution_count": 10,
   "metadata": {},
   "outputs": [],
   "source": [
    "#plotting graphs\n",
    "%matplotlib inline\n",
    "accu=eng_cnn.history['accuracy']\n",
    "val_acc=eng_cnn.history['val_accuracy']\n",
    "loss=eng_cnn.history['loss']\n",
    "val_loss=eng_cnn.history['val_loss']\n",
    "\n",
    "epochs=range(len(accu)) #No. of epochs\n",
    "\n"
   ]
  },
  {
   "cell_type": "code",
   "execution_count": 12,
   "metadata": {},
   "outputs": [
    {
     "data": {
      "image/png": "[encoded data removed]",
      "text/plain": [
       "<Figure size 432x288 with 1 Axes>"
      ]
     },
     "metadata": {
      "needs_background": "light"
     },
     "output_type": "display_data"
    },
    {
     "data": {
      "image/png": "[encoded data removed]",
      "text/plain": [
       "<Figure size 432x288 with 1 Axes>"
      ]
     },
     "metadata": {
      "needs_background": "light"
     },
     "output_type": "display_data"
    }
   ],
   "source": [
    "import matplotlib.pyplot as plt\n",
    "plt.plot(epochs,accu,'r',label='Training Accuracy')\n",
    "\n",
    "plt.plot(epochs,val_acc,'g',label='Testing Accuracy')\n",
    "\n",
    "plt.savefig('training_acuuracy_eng.png')\n",
    "plt.legend()\n",
    "plt.figure()\n",
    "\n",
    "#Plot training and validation loss per epoch\n",
    "plt.plot(epochs,loss,'r',label='Training Loss')\n",
    "\n",
    "plt.plot(epochs,val_loss,'g',label='Testing Loss')\n",
    "\n",
    "plt.savefig('training_loss_eng.png')\n",
    "plt.legend()\n",
    "plt.show()\n"
   ]
  },
  {
   "cell_type": "code",
   "execution_count": null,
   "metadata": {},
   "outputs": [],
   "source": []
  },
  {
   "cell_type": "code",
   "execution_count": null,
   "metadata": {},
   "outputs": [],
   "source": []
  },
  {
   "cell_type": "code",
   "execution_count": null,
   "metadata": {},
   "outputs": [],
   "source": []
  }
 ],
 "metadata": {
  "kernelspec": {
   "display_name": "Python 3",
   "language": "python",
   "name": "python3"
  },
  "language_info": {
   "codemirror_mode": {
    "name": "ipython",
    "version": 3
   },
   "file_extension": ".py",
   "mimetype": "text/x-python",
   "name": "python",
   "nbconvert_exporter": "python",
   "pygments_lexer": "ipython3",
   "version": "3.7.6"
  }
 },
 "nbformat": 4,
 "nbformat_minor": 4
}
