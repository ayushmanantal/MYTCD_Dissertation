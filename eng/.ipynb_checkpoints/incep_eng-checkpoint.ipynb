{
 "cells": [
  {
   "cell_type": "code",
   "execution_count": 1,
   "metadata": {},
   "outputs": [],
   "source": [
    "#importing packages\n",
    "import os \n",
    "import zipfile \n",
    "import tensorflow as tf \n",
    "from tensorflow.keras.optimizers import RMSprop \n",
    "from tensorflow.keras.preprocessing.image import ImageDataGenerator \n",
    "from tensorflow.keras import layers \n",
    "from tensorflow.keras import Model \n",
    "from tensorflow.keras.applications.inception_v3 import InceptionV3 \n",
    "from tensorflow.keras.optimizers import RMSprop \n",
    "from tensorflow.keras.callbacks import ModelCheckpoint, ReduceLROnPlateau"
   ]
  },
  {
   "cell_type": "code",
   "execution_count": 2,
   "metadata": {},
   "outputs": [
    {
     "name": "stdout",
     "output_type": "stream",
     "text": [
      "Found 136400 images belonging to 62 classes.\n"
     ]
    }
   ],
   "source": [
    "#training data directory and parameteres\n",
    "trainDataGen = ImageDataGenerator(\n",
    "                    rotation_range = 5,\n",
    "                    width_shift_range = 0.1,\n",
    "                    height_shift_range = 0.1,\n",
    "                    rescale = 1.0/255,\n",
    "                    shear_range = 0.2,\n",
    "                    zoom_range = 0.2,\n",
    "                    horizontal_flip = False,\n",
    "                    fill_mode = 'nearest',\n",
    "                )\n",
    "\n",
    "testDataGen = ImageDataGenerator(rescale=1.0/255,)\n",
    "\n",
    "\n",
    "train_gen = trainDataGen.flow_from_directory(\n",
    "                    \"data/Train\",\n",
    "                    target_size=(75, 75),\n",
    "                    class_mode=\"categorical\",\n",
    "                    batch_size=32\n",
    "                    )\n"
   ]
  },
  {
   "cell_type": "code",
   "execution_count": 3,
   "metadata": {},
   "outputs": [
    {
     "name": "stdout",
     "output_type": "stream",
     "text": [
      "Found 18600 images belonging to 62 classes.\n"
     ]
    }
   ],
   "source": [
    "#validation data directory and parameteres\n",
    "val_gen = testDataGen.flow_from_directory(\n",
    "                    \"data/Test\",\n",
    "                    target_size=(75, 75),\n",
    "                    class_mode=\"categorical\",\n",
    "                    batch_size=32\n",
    "                    )\n"
   ]
  },
  {
   "cell_type": "code",
   "execution_count": 4,
   "metadata": {},
   "outputs": [],
   "source": [
    "base_model = InceptionV3(input_shape = (75, 75, 3),  \n",
    "                                include_top = False,  \n",
    "                                weights = 'imagenet') \n",
    "for layer in base_model.layers: \n",
    "  layer.trainable = False\n",
    "  \n",
    "#stop training is model accuracy reached 99% \n",
    "#class myCallback(tf.keras.callbacks.Callback): \n",
    "  #def on_epoch_end(self, epoch, logs={}): \n",
    "    #if(logs.get('acc')>0.99): \n",
    "      #self.model.stop_training = True"
   ]
  },
  {
   "cell_type": "code",
   "execution_count": 5,
   "metadata": {},
   "outputs": [],
   "source": [
    "# code \n",
    "x = layers.Flatten()(base_model.output) \n",
    "\n",
    "x = layers.BatchNormalization()(x)\n",
    "x = layers.Dropout(0.1)(x)\n",
    "x = layers.Dense(1024, activation='relu')(x)\n",
    "x = layers.Dense(512,activation='relu')(x) \n",
    "x = layers.Dropout(0.1)(x)  #dropout is decreased after observation of resutls on dataset\n",
    "x = layers.BatchNormalization()(x)\n",
    "\n",
    "x = layers.Dense(62, activation='softmax')(x)            \n",
    "  \n",
    "model = Model(base_model.input, x)  "
   ]
  },
  {
   "cell_type": "code",
   "execution_count": 6,
   "metadata": {},
   "outputs": [],
   "source": [
    "#compiling the model\n",
    "opt = tf.keras.optimizers.Adam()\n",
    "model.compile(optimizer = opt,loss = 'categorical_crossentropy',metrics = ['acc']) \n"
   ]
  },
  {
   "cell_type": "code",
   "execution_count": 7,
   "metadata": {},
   "outputs": [],
   "source": [
    "#if no change in validation loss - learning rate will be decreased\n",
    "anne = ReduceLROnPlateau(monitor='val_accuracy', factor=0.5, patience=5, verbose=1, min_lr=1e-3)\n",
    "checkpoint = ModelCheckpoint('model.h5', verbose=1, save_best_only=True)"
   ]
  },
  {
   "cell_type": "code",
   "execution_count": 8,
   "metadata": {},
   "outputs": [
    {
     "name": "stdout",
     "output_type": "stream",
     "text": [
      "Epoch 1/30\n",
      "4263/4263 [==============================] - 444s 104ms/step - loss: 1.9561 - acc: 0.4161 - val_loss: 1.5751 - val_acc: 0.5029\n",
      "Epoch 2/30\n",
      "4263/4263 [==============================] - 377s 89ms/step - loss: 1.6070 - acc: 0.4890 - val_loss: 1.3788 - val_acc: 0.5435\n",
      "Epoch 3/30\n",
      "4263/4263 [==============================] - 382s 90ms/step - loss: 1.4916 - acc: 0.5164 - val_loss: 1.3104 - val_acc: 0.5626\n",
      "Epoch 4/30\n",
      "4263/4263 [==============================] - 412s 97ms/step - loss: 1.4164 - acc: 0.5354 - val_loss: 1.2562 - val_acc: 0.5773\n",
      "Epoch 5/30\n",
      "4263/4263 [==============================] - 386s 91ms/step - loss: 1.3696 - acc: 0.5473 - val_loss: 1.2239 - val_acc: 0.5859\n",
      "Epoch 6/30\n",
      "4263/4263 [==============================] - 406s 95ms/step - loss: 1.3330 - acc: 0.5564 - val_loss: 1.2172 - val_acc: 0.5810\n",
      "Epoch 7/30\n",
      "4263/4263 [==============================] - 416s 98ms/step - loss: 1.3070 - acc: 0.5647 - val_loss: 1.2038 - val_acc: 0.5811\n",
      "Epoch 8/30\n",
      "4263/4263 [==============================] - 400s 94ms/step - loss: 1.2801 - acc: 0.5702 - val_loss: 1.1718 - val_acc: 0.5984\n",
      "Epoch 9/30\n",
      "4263/4263 [==============================] - 393s 92ms/step - loss: 1.2620 - acc: 0.5758 - val_loss: 1.1683 - val_acc: 0.6002\n",
      "Epoch 10/30\n",
      "4263/4263 [==============================] - 388s 91ms/step - loss: 1.2494 - acc: 0.5783 - val_loss: 1.1518 - val_acc: 0.6027\n",
      "Epoch 11/30\n",
      "4263/4263 [==============================] - 402s 94ms/step - loss: 1.2278 - acc: 0.5861 - val_loss: 1.1447 - val_acc: 0.6071\n",
      "Epoch 12/30\n",
      "4263/4263 [==============================] - 379s 89ms/step - loss: 1.2226 - acc: 0.5853 - val_loss: 1.1311 - val_acc: 0.6083\n",
      "Epoch 13/30\n",
      "4263/4263 [==============================] - 393s 92ms/step - loss: 1.2081 - acc: 0.5900 - val_loss: 1.1235 - val_acc: 0.6097\n",
      "Epoch 14/30\n",
      "4263/4263 [==============================] - 412s 97ms/step - loss: 1.1989 - acc: 0.5920 - val_loss: 1.1389 - val_acc: 0.6051\n",
      "Epoch 15/30\n",
      "4263/4263 [==============================] - 397s 93ms/step - loss: 1.1904 - acc: 0.5963 - val_loss: 1.1139 - val_acc: 0.6069\n",
      "Epoch 16/30\n",
      "4263/4263 [==============================] - 406s 95ms/step - loss: 1.1818 - acc: 0.5957 - val_loss: 1.0989 - val_acc: 0.6169\n",
      "Epoch 17/30\n",
      "4263/4263 [==============================] - 396s 93ms/step - loss: 1.1719 - acc: 0.5978 - val_loss: 1.1096 - val_acc: 0.6133\n",
      "Epoch 18/30\n",
      "4263/4263 [==============================] - 400s 94ms/step - loss: 1.1681 - acc: 0.6010 - val_loss: 1.0927 - val_acc: 0.6119\n",
      "Epoch 19/30\n",
      "4263/4263 [==============================] - 421s 99ms/step - loss: 1.1578 - acc: 0.6032 - val_loss: 1.0924 - val_acc: 0.6156\n",
      "Epoch 20/30\n",
      "4263/4263 [==============================] - 408s 96ms/step - loss: 1.1542 - acc: 0.6032 - val_loss: 1.0783 - val_acc: 0.6186\n",
      "Epoch 21/30\n",
      "4263/4263 [==============================] - 435s 102ms/step - loss: 1.1472 - acc: 0.6069 - val_loss: 1.1065 - val_acc: 0.6125\n",
      "Epoch 22/30\n",
      "4263/4263 [==============================] - 418s 98ms/step - loss: 1.1392 - acc: 0.6079 - val_loss: 1.1011 - val_acc: 0.6125\n",
      "Epoch 23/30\n",
      "4263/4263 [==============================] - 457s 107ms/step - loss: 1.1358 - acc: 0.6075 - val_loss: 1.0916 - val_acc: 0.6197\n",
      "Epoch 24/30\n",
      "4263/4263 [==============================] - 432s 101ms/step - loss: 1.1349 - acc: 0.6083 - val_loss: 1.0705 - val_acc: 0.6204\n",
      "Epoch 25/30\n",
      "4263/4263 [==============================] - 462s 108ms/step - loss: 1.1304 - acc: 0.6086 - val_loss: 1.0745 - val_acc: 0.6178\n",
      "Epoch 26/30\n",
      "4263/4263 [==============================] - 477s 112ms/step - loss: 1.1218 - acc: 0.6128 - val_loss: 1.0782 - val_acc: 0.6205\n",
      "Epoch 27/30\n",
      "4263/4263 [==============================] - 457s 107ms/step - loss: 1.1204 - acc: 0.6130 - val_loss: 1.0649 - val_acc: 0.6219\n",
      "Epoch 28/30\n",
      "4263/4263 [==============================] - 376s 88ms/step - loss: 1.1142 - acc: 0.6140 - val_loss: 1.0800 - val_acc: 0.6223\n",
      "Epoch 29/30\n",
      "4263/4263 [==============================] - 376s 88ms/step - loss: 1.1145 - acc: 0.6137 - val_loss: 1.0721 - val_acc: 0.6168\n",
      "Epoch 30/30\n",
      "4263/4263 [==============================] - 381s 89ms/step - loss: 1.1098 - acc: 0.6156 - val_loss: 1.0562 - val_acc: 0.6255\n"
     ]
    }
   ],
   "source": [
    "#fitting the model  \n",
    "inc_eng = model.fit( \n",
    "            train_gen, \n",
    "            validation_data = val_gen, \n",
    "            steps_per_epoch = 4263, \n",
    "            epochs = 30, \n",
    "            validation_steps = 582) "
   ]
  },
  {
   "cell_type": "code",
   "execution_count": 9,
   "metadata": {},
   "outputs": [],
   "source": [
    "model.save('IncModel_Eng.h5')"
   ]
  },
  {
   "cell_type": "code",
   "execution_count": 12,
   "metadata": {},
   "outputs": [],
   "source": [
    "%matplotlib inline\n",
    "accu=inc_eng.history['acc']\n",
    "val_acc=inc_eng.history['val_acc']\n",
    "loss=inc_eng.history['loss']\n",
    "val_loss=inc_eng.history['val_loss']\n",
    "\n",
    "epochs=range(len(accu)) #No. of epochs\n",
    "\n"
   ]
  },
  {
   "cell_type": "code",
   "execution_count": 13,
   "metadata": {},
   "outputs": [
    {
     "data": {
      "image/png": "[encoded data removed]",
      "text/plain": [
       "<Figure size 432x288 with 1 Axes>"
      ]
     },
     "metadata": {
      "needs_background": "light"
     },
     "output_type": "display_data"
    },
    {
     "data": {
      "image/png": "[encoded data removed]",
      "text/plain": [
       "<Figure size 432x288 with 1 Axes>"
      ]
     },
     "metadata": {
      "needs_background": "light"
     },
     "output_type": "display_data"
    }
   ],
   "source": [
    "import matplotlib.pyplot as plt\n",
    "plt.plot(epochs,accu,'r',label='Training Accuracy')\n",
    "plt.plot(epochs,val_acc,'g',label='Testing Accuracy')\n",
    "\n",
    "plt.savefig('training_accuracy_eng_incep.png')\n",
    "plt.legend()\n",
    "plt.figure()\n",
    "\n",
    "#Plot training and validation loss per epoch\n",
    "plt.plot(epochs,loss,'r',label='Training Loss')\n",
    "plt.plot(epochs,val_loss,'g',label='Testing Loss')\n",
    "\n",
    "plt.savefig('training_loss_eng_incep.png')\n",
    "plt.legend()\n",
    "plt.show()\n",
    "\n"
   ]
  },
  {
   "cell_type": "code",
   "execution_count": null,
   "metadata": {},
   "outputs": [],
   "source": []
  }
 ],
 "metadata": {
  "kernelspec": {
   "display_name": "Python 3",
   "language": "python",
   "name": "python3"
  },
  "language_info": {
   "codemirror_mode": {
    "name": "ipython",
    "version": 3
   },
   "file_extension": ".py",
   "mimetype": "text/x-python",
   "name": "python",
   "nbconvert_exporter": "python",
   "pygments_lexer": "ipython3",
   "version": "3.7.6"
  }
 },
 "nbformat": 4,
 "nbformat_minor": 4
}
