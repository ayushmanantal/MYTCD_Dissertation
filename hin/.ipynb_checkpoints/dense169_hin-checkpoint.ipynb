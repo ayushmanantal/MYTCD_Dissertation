{
 "cells": [
  {
   "cell_type": "code",
   "execution_count": 16,
   "metadata": {},
   "outputs": [],
   "source": [
    "import tensorflow \n",
    "\n",
    "import pandas as pd\n",
    "import numpy as np\n",
    "import os\n",
    "import keras\n",
    "\n",
    "from tensorflow.keras.layers import Dense,GlobalAveragePooling2D, Convolution2D,BatchNormalization\n",
    "from tensorflow.keras.layers import Flatten,MaxPooling2D,Dropout\n",
    "\n",
    "from tensorflow.keras.applications import DenseNet169\n",
    "from tensorflow.keras.applications.densenet import preprocess_input\n",
    "\n",
    "from tensorflow.keras.preprocessing import image\n",
    "from tensorflow.keras.preprocessing.image import ImageDataGenerator,img_to_array\n",
    "\n",
    "from tensorflow.keras.models import Model\n",
    "\n",
    "from tensorflow.keras.optimizers import Adam\n",
    "\n",
    "from tensorflow.keras.callbacks import ModelCheckpoint, ReduceLROnPlateau\n",
    "\n",
    "import warnings\n",
    "warnings.filterwarnings(\"ignore\")"
   ]
  },
  {
   "cell_type": "code",
   "execution_count": 17,
   "metadata": {},
   "outputs": [],
   "source": [
    "model_dense=DenseNet169(weights='imagenet',include_top=False, input_shape=(32, 32, 3)) \n",
    "\n",
    "x = model_dense.output\n",
    "\n",
    "x = GlobalAveragePooling2D()(x)\n",
    "x = BatchNormalization()(x)\n",
    "#x = Dropout(0.5)(x)\n",
    "x = Dense(1024,activation='relu')(x) \n",
    "x = Dense(512,activation='relu')(x) \n",
    "x = BatchNormalization()(x)\n",
    "#x = Dropout(0.5)(x)\n",
    "\n",
    "preds=Dense(46,activation='softmax')(x) #FC-layer"
   ]
  },
  {
   "cell_type": "code",
   "execution_count": 18,
   "metadata": {},
   "outputs": [],
   "source": [
    "model=Model(inputs=model_dense.input,outputs=preds)\n",
    "#model.summary()"
   ]
  },
  {
   "cell_type": "code",
   "execution_count": 19,
   "metadata": {},
   "outputs": [],
   "source": [
    "for layer in model.layers[:-30]:\n",
    "    layer.trainable=False\n",
    "    \n",
    "for layer in model.layers[-30:]:\n",
    "    layer.trainable=True"
   ]
  },
  {
   "cell_type": "code",
   "execution_count": 20,
   "metadata": {},
   "outputs": [],
   "source": [
    "model.compile(optimizer='Adam',loss='categorical_crossentropy',metrics=['accuracy'])\n",
    "#model.summary()"
   ]
  },
  {
   "cell_type": "code",
   "execution_count": 21,
   "metadata": {},
   "outputs": [
    {
     "name": "stdout",
     "output_type": "stream",
     "text": [
      "Found 78200 images belonging to 46 classes.\n"
     ]
    }
   ],
   "source": [
    "#training data directory and parameteres\n",
    "trainDataGen = ImageDataGenerator(\n",
    "                    rotation_range = 5,\n",
    "                    width_shift_range = 0.1,\n",
    "                    height_shift_range = 0.1,\n",
    "                    rescale = 1.0/255,\n",
    "                    shear_range = 0.2,\n",
    "                    zoom_range = 0.2,\n",
    "                    horizontal_flip = False,\n",
    "                    fill_mode = 'nearest',\n",
    "                )\n",
    "\n",
    "testDataGen = ImageDataGenerator(rescale=1.0/255,)\n",
    "\n",
    "\n",
    "train_gen = trainDataGen.flow_from_directory(\n",
    "                    \"DevanagariHandwrittenCharacterDataset/Train\",\n",
    "                    target_size=(32, 32),\n",
    "                    class_mode=\"categorical\",\n",
    "                    batch_size=32\n",
    "                    )\n"
   ]
  },
  {
   "cell_type": "code",
   "execution_count": 22,
   "metadata": {},
   "outputs": [
    {
     "name": "stdout",
     "output_type": "stream",
     "text": [
      "Found 13800 images belonging to 46 classes.\n"
     ]
    }
   ],
   "source": [
    "#validation data directory and parameteres\n",
    "val_gen = testDataGen.flow_from_directory(\n",
    "                    \"DevanagariHandwrittenCharacterDataset/Test\",\n",
    "                    target_size=(32, 32),\n",
    "                    class_mode=\"categorical\",\n",
    "                    batch_size=32\n",
    "                    )\n"
   ]
  },
  {
   "cell_type": "code",
   "execution_count": 23,
   "metadata": {},
   "outputs": [],
   "source": [
    "#if no change in validation loss - learning rate will be decreased\n",
    "anne = ReduceLROnPlateau(monitor='val_accuracy', factor=0.5, patience=5, verbose=1, min_lr=1e-3)\n",
    "checkpoint = ModelCheckpoint('model.h5', verbose=1, save_best_only=True)"
   ]
  },
  {
   "cell_type": "code",
   "execution_count": 24,
   "metadata": {},
   "outputs": [
    {
     "name": "stdout",
     "output_type": "stream",
     "text": [
      "Epoch 1/20\n",
      "2444/2444 [==============================] - 130s 53ms/step - loss: 0.8713 - accuracy: 0.7379 - val_loss: 0.3853 - val_accuracy: 0.8786\n",
      "Epoch 2/20\n",
      "2444/2444 [==============================] - 107s 44ms/step - loss: 0.5260 - accuracy: 0.8342 - val_loss: 0.2839 - val_accuracy: 0.9112\n",
      "Epoch 3/20\n",
      "2444/2444 [==============================] - 109s 45ms/step - loss: 0.4361 - accuracy: 0.8620 - val_loss: 0.2318 - val_accuracy: 0.9238\n",
      "Epoch 4/20\n",
      "2444/2444 [==============================] - 113s 46ms/step - loss: 0.3848 - accuracy: 0.8774 - val_loss: 0.2308 - val_accuracy: 0.9254loss: 0.3848 - accura\n",
      "Epoch 5/20\n",
      "2444/2444 [==============================] - 105s 43ms/step - loss: 0.3464 - accuracy: 0.8883 - val_loss: 0.1965 - val_accuracy: 0.9363\n",
      "Epoch 6/20\n",
      "2444/2444 [==============================] - 112s 46ms/step - loss: 0.3143 - accuracy: 0.8999 - val_loss: 0.1781 - val_accuracy: 0.9436\n",
      "Epoch 7/20\n",
      "2444/2444 [==============================] - 109s 45ms/step - loss: 0.2968 - accuracy: 0.9063 - val_loss: 0.1794 - val_accuracy: 0.9424\n",
      "Epoch 8/20\n",
      "2444/2444 [==============================] - 113s 46ms/step - loss: 0.2709 - accuracy: 0.9136 - val_loss: 0.1565 - val_accuracy: 0.9509\n",
      "Epoch 9/20\n",
      "2444/2444 [==============================] - 114s 46ms/step - loss: 0.2579 - accuracy: 0.9168 - val_loss: 0.1577 - val_accuracy: 0.9509\n",
      "Epoch 10/20\n",
      "2444/2444 [==============================] - 108s 44ms/step - loss: 0.2474 - accuracy: 0.9202 - val_loss: 0.1572 - val_accuracy: 0.9507\n",
      "Epoch 11/20\n",
      "2444/2444 [==============================] - 113s 46ms/step - loss: 0.2303 - accuracy: 0.9257 - val_loss: 0.1371 - val_accuracy: 0.9562\n",
      "Epoch 12/20\n",
      "2444/2444 [==============================] - 113s 46ms/step - loss: 0.2280 - accuracy: 0.9269 - val_loss: 0.1506 - val_accuracy: 0.9529\n",
      "Epoch 13/20\n",
      "2444/2444 [==============================] - 113s 46ms/step - loss: 0.2173 - accuracy: 0.9298 - val_loss: 0.1297 - val_accuracy: 0.9570\n",
      "Epoch 14/20\n",
      "2444/2444 [==============================] - 114s 47ms/step - loss: 0.2100 - accuracy: 0.9314 - val_loss: 0.1341 - val_accuracy: 0.9560\n",
      "Epoch 15/20\n",
      "2444/2444 [==============================] - 117s 48ms/step - loss: 0.2019 - accuracy: 0.9352 - val_loss: 0.1328 - val_accuracy: 0.9593\n",
      "Epoch 16/20\n",
      "2444/2444 [==============================] - 122s 50ms/step - loss: 0.1959 - accuracy: 0.9364 - val_loss: 0.1407 - val_accuracy: 0.9559\n",
      "Epoch 17/20\n",
      "2444/2444 [==============================] - 119s 49ms/step - loss: 0.1885 - accuracy: 0.9385 - val_loss: 0.1375 - val_accuracy: 0.9591\n",
      "Epoch 18/20\n",
      "2444/2444 [==============================] - 113s 46ms/step - loss: 0.1856 - accuracy: 0.9399 - val_loss: 0.1305 - val_accuracy: 0.9596\n",
      "Epoch 19/20\n",
      "2444/2444 [==============================] - 116s 47ms/step - loss: 0.1809 - accuracy: 0.9414 - val_loss: 0.1290 - val_accuracy: 0.9586\n",
      "Epoch 20/20\n",
      "2444/2444 [==============================] - 119s 49ms/step - loss: 0.1768 - accuracy: 0.9418 - val_loss: 0.1170 - val_accuracy: 0.9625\n"
     ]
    }
   ],
   "source": [
    "densenet169 = model.fit(\n",
    "        train_gen,\n",
    "        epochs = 20,\n",
    "        steps_per_epoch = 2444,\n",
    "        validation_data = val_gen,\n",
    "        validation_steps = 432\n",
    "        )"
   ]
  },
  {
   "cell_type": "code",
   "execution_count": 25,
   "metadata": {},
   "outputs": [],
   "source": [
    "model.save(\"DenseNetModel_hindi.h5\")"
   ]
  },
  {
   "cell_type": "code",
   "execution_count": 26,
   "metadata": {},
   "outputs": [],
   "source": [
    "%matplotlib inline\n",
    "accu=densenet169.history['accuracy']\n",
    "val_acc=densenet169.history['val_accuracy']\n",
    "loss=densenet169.history['loss']\n",
    "val_loss=densenet169.history['val_loss']\n",
    "\n",
    "epochs=range(len(accu)) #No. of epochs\n",
    "\n"
   ]
  },
  {
   "cell_type": "code",
   "execution_count": 27,
   "metadata": {},
   "outputs": [
    {
     "data": {
      "image/png": "[encoded data removed]",
      "text/plain": [
       "<Figure size 432x288 with 1 Axes>"
      ]
     },
     "metadata": {
      "needs_background": "light"
     },
     "output_type": "display_data"
    },
    {
     "data": {
      "image/png": "[encoded data removed]",
      "text/plain": [
       "<Figure size 432x288 with 1 Axes>"
      ]
     },
     "metadata": {
      "needs_background": "light"
     },
     "output_type": "display_data"
    }
   ],
   "source": [
    "import matplotlib.pyplot as plt\n",
    "plt.plot(epochs,accu,'r',label='Training Accuracy')\n",
    "plt.plot(epochs,val_acc,'g',label='Testing Accuracy')\n",
    "\n",
    "plt.savefig('training_den169_hin.png')\n",
    "plt.legend()\n",
    "plt.figure()\n",
    "\n",
    "#Plot training and validation loss per epoch\n",
    "plt.plot(epochs,loss,'r',label='Training Loss')\n",
    "plt.plot(epochs,val_loss,'g',label='Testing Loss')\n",
    "\n",
    "plt.savefig('loss_den169_hin.png')\n",
    "plt.legend()\n",
    "plt.show()\n",
    "\n"
   ]
  },
  {
   "cell_type": "code",
   "execution_count": null,
   "metadata": {},
   "outputs": [],
   "source": []
  }
 ],
 "metadata": {
  "kernelspec": {
   "display_name": "Python 3",
   "language": "python",
   "name": "python3"
  },
  "language_info": {
   "codemirror_mode": {
    "name": "ipython",
    "version": 3
   },
   "file_extension": ".py",
   "mimetype": "text/x-python",
   "name": "python",
   "nbconvert_exporter": "python",
   "pygments_lexer": "ipython3",
   "version": "3.7.6"
  }
 },
 "nbformat": 4,
 "nbformat_minor": 4
}
