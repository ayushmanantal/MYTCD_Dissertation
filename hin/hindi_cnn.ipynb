{
 "cells": [
  {
   "cell_type": "code",
   "execution_count": 1,
   "metadata": {},
   "outputs": [],
   "source": [
    "#importing packages\n",
    "import os\n",
    "import h5py\n",
    "import numpy as np\n",
    "from keras.preprocessing.image import ImageDataGenerator\n",
    "from keras import optimizers\n",
    "from tensorflow.keras.models import Sequential\n",
    "from tensorflow.keras.layers import Convolution2D,MaxPooling2D,Activation, Dropout, Flatten, Dense, BatchNormalization\n",
    "from tensorflow.keras.callbacks import ModelCheckpoint, ReduceLROnPlateau"
   ]
  },
  {
   "cell_type": "code",
   "execution_count": 2,
   "metadata": {},
   "outputs": [
    {
     "name": "stdout",
     "output_type": "stream",
     "text": [
      "Found 78200 images belonging to 46 classes.\n"
     ]
    }
   ],
   "source": [
    "#initializing ImageDataGenerater and importing training data\n",
    "trainDataGen = ImageDataGenerator(\n",
    "        rotation_range = 5,\n",
    "        width_shift_range = 0.1,\n",
    "        height_shift_range = 0.1,\n",
    "        rescale = 1.0/255,\n",
    "        shear_range = 0.2,\n",
    "        zoom_range = 0.2,\t\t\n",
    "        horizontal_flip = False,\n",
    "        fill_mode = 'nearest')\n",
    "\n",
    "test_datagen = ImageDataGenerator(rescale=1./255)\n",
    "trainGenerator = trainDataGen.flow_from_directory(\n",
    "            \"DevanagariHandwrittenCharacterDataset/Train\",\n",
    "            target_size = (32,32),\n",
    "            batch_size = 32,\n",
    "            color_mode = \"grayscale\",\n",
    "            class_mode = \"categorical\")\n"
   ]
  },
  {
   "cell_type": "code",
   "execution_count": 3,
   "metadata": {},
   "outputs": [
    {
     "name": "stdout",
     "output_type": "stream",
     "text": [
      "Found 13800 images belonging to 46 classes.\n"
     ]
    }
   ],
   "source": [
    "#importing testing data\n",
    "validation_generator = test_datagen.flow_from_directory(\n",
    "            \"DevanagariHandwrittenCharacterDataset/Test\",\n",
    "            target_size=(32,32),\n",
    "            batch_size=32,\n",
    "            color_mode = \"grayscale\",\n",
    "            class_mode= 'categorical')\n"
   ]
  },
  {
   "cell_type": "code",
   "execution_count": 4,
   "metadata": {},
   "outputs": [],
   "source": [
    "#adding cnn layers\n",
    "model = Sequential()\n",
    "\n",
    "#Layer1----------------------------------------------------------\n",
    "model.add(Convolution2D(filters = 32,\n",
    "            kernel_size = (3,3),\n",
    "            strides = 1,\n",
    "            activation = \"relu\",\n",
    "            input_shape = (32,32,1)))\n",
    "\n",
    "model.add(BatchNormalization())\n",
    "#model.add(Dropout(0.25))\n",
    "model.add(MaxPooling2D(pool_size=(2, 2),\n",
    "            strides=(2, 2),\n",
    "            padding=\"same\"))\n",
    "\n",
    "#Layer2-------------------------------------------------------------\n",
    "model.add(Convolution2D(filters = 32,\n",
    "            kernel_size = (3,3),\n",
    "            strides = 1,\n",
    "            activation = \"relu\",\n",
    "            input_shape = (32,32,1)))\n",
    "model.add(BatchNormalization())\n",
    "#model.add(MaxPooling2D())\n",
    "model.add(MaxPooling2D(pool_size=(2, 2),\n",
    "            strides=(2, 2),\n",
    "            padding=\"same\"))\n",
    "#model.add(Dropout(0.25))\n",
    "\n",
    "\n",
    "#Layers 3-----------------------------------------------------------\t\n",
    "model.add(Convolution2D(filters = 64,\n",
    "            kernel_size = (3,3),\n",
    "            strides = 1,\n",
    "            activation = \"relu\"))\n",
    "model.add(BatchNormalization())\n",
    "model.add(MaxPooling2D(pool_size=(2, 2),\n",
    "            strides=(2, 2),\n",
    "            padding=\"same\"))\n",
    "\n",
    "\n",
    "#Layer 4--------------------------------------------------\n",
    "model.add(Convolution2D(filters = 64,\n",
    "            kernel_size = (3,3),\n",
    "            strides= 1,\n",
    "            activation = \"relu\"))\n",
    "model.add(BatchNormalization())\n",
    "model.add(MaxPooling2D(pool_size=(2, 2),\n",
    "            strides=(2, 2),\n",
    "            padding=\"same\"))\n",
    "#model.add(Dropout(0.2))\n"
   ]
  },
  {
   "cell_type": "code",
   "execution_count": 5,
   "metadata": {},
   "outputs": [
    {
     "name": "stdout",
     "output_type": "stream",
     "text": [
      "Model: \"sequential\"\n",
      "_________________________________________________________________\n",
      "Layer (type)                 Output Shape              Param #   \n",
      "=================================================================\n",
      "conv2d (Conv2D)              (None, 30, 30, 32)        320       \n",
      "_________________________________________________________________\n",
      "batch_normalization (BatchNo (None, 30, 30, 32)        128       \n",
      "_________________________________________________________________\n",
      "max_pooling2d (MaxPooling2D) (None, 15, 15, 32)        0         \n",
      "_________________________________________________________________\n",
      "conv2d_1 (Conv2D)            (None, 13, 13, 32)        9248      \n",
      "_________________________________________________________________\n",
      "batch_normalization_1 (Batch (None, 13, 13, 32)        128       \n",
      "_________________________________________________________________\n",
      "max_pooling2d_1 (MaxPooling2 (None, 7, 7, 32)          0         \n",
      "_________________________________________________________________\n",
      "conv2d_2 (Conv2D)            (None, 5, 5, 64)          18496     \n",
      "_________________________________________________________________\n",
      "batch_normalization_2 (Batch (None, 5, 5, 64)          256       \n",
      "_________________________________________________________________\n",
      "max_pooling2d_2 (MaxPooling2 (None, 3, 3, 64)          0         \n",
      "_________________________________________________________________\n",
      "conv2d_3 (Conv2D)            (None, 1, 1, 64)          36928     \n",
      "_________________________________________________________________\n",
      "batch_normalization_3 (Batch (None, 1, 1, 64)          256       \n",
      "_________________________________________________________________\n",
      "max_pooling2d_3 (MaxPooling2 (None, 1, 1, 64)          0         \n",
      "_________________________________________________________________\n",
      "flatten (Flatten)            (None, 64)                0         \n",
      "_________________________________________________________________\n",
      "dense (Dense)                (None, 128)               8320      \n",
      "_________________________________________________________________\n",
      "batch_normalization_4 (Batch (None, 128)               512       \n",
      "_________________________________________________________________\n",
      "dense_1 (Dense)              (None, 64)                8256      \n",
      "_________________________________________________________________\n",
      "batch_normalization_5 (Batch (None, 64)                256       \n",
      "_________________________________________________________________\n",
      "dense_2 (Dense)              (None, 46)                2990      \n",
      "=================================================================\n",
      "Total params: 86,094\n",
      "Trainable params: 85,326\n",
      "Non-trainable params: 768\n",
      "_________________________________________________________________\n",
      "None\n"
     ]
    }
   ],
   "source": [
    "#flattening data and adding hidden layers\n",
    "model.add(Flatten())\n",
    "\n",
    "model.add(Dense(128,\n",
    "        activation = \"relu\",\n",
    "        kernel_initializer = \"uniform\"))\n",
    "model.add(BatchNormalization())\n",
    "\n",
    "model.add(Dense(64,\n",
    "        activation = \"relu\",\n",
    "        kernel_initializer = \"uniform\"))\n",
    "model.add(BatchNormalization())\n",
    "\n",
    "model.add(Dense(46,\n",
    "        activation = \"softmax\",\n",
    "        kernel_initializer = \"uniform\"))\n",
    "\n",
    "model.compile(optimizer = \"adam\",\n",
    "        loss = \"categorical_crossentropy\",\n",
    "        metrics = [\"accuracy\"])\n",
    "\n",
    "print(model.summary())"
   ]
  },
  {
   "cell_type": "code",
   "execution_count": 6,
   "metadata": {},
   "outputs": [],
   "source": [
    "#if no change in validation loss - learning rate will be decreased\n",
    "anne = ReduceLROnPlateau(monitor='val_accuracy', factor=0.5, patience=5, verbose=1, min_lr=1e-3)\n",
    "checkpoint = ModelCheckpoint('model.h5', verbose=1, save_best_only=True)"
   ]
  },
  {
   "cell_type": "code",
   "execution_count": 7,
   "metadata": {},
   "outputs": [
    {
     "name": "stdout",
     "output_type": "stream",
     "text": [
      "WARNING:tensorflow:From <ipython-input-7-a31ed0a88dff>:6: Model.fit_generator (from tensorflow.python.keras.engine.training) is deprecated and will be removed in a future version.\n",
      "Instructions for updating:\n",
      "Please use Model.fit, which supports generators.\n",
      "Epoch 1/25\n",
      "2444/2444 [==============================] - 170s 70ms/step - loss: 0.8021 - accuracy: 0.7762 - val_loss: 0.1663 - val_accuracy: 0.9483\n",
      "Epoch 2/25\n",
      "2444/2444 [==============================] - 58s 24ms/step - loss: 0.3039 - accuracy: 0.9056 - val_loss: 0.1324 - val_accuracy: 0.9579\n",
      "Epoch 3/25\n",
      "2444/2444 [==============================] - 57s 24ms/step - loss: 0.2330 - accuracy: 0.9272 - val_loss: 0.1073 - val_accuracy: 0.9667\n",
      "Epoch 4/25\n",
      "2444/2444 [==============================] - 58s 24ms/step - loss: 0.1983 - accuracy: 0.9386 - val_loss: 0.0970 - val_accuracy: 0.9707\n",
      "Epoch 5/25\n",
      "2444/2444 [==============================] - 57s 23ms/step - loss: 0.1773 - accuracy: 0.9454 - val_loss: 0.0925 - val_accuracy: 0.9703\n",
      "Epoch 6/25\n",
      "2444/2444 [==============================] - 58s 24ms/step - loss: 0.1629 - accuracy: 0.9488 - val_loss: 0.0762 - val_accuracy: 0.9765\n",
      "Epoch 7/25\n",
      "2444/2444 [==============================] - 57s 23ms/step - loss: 0.1498 - accuracy: 0.9523 - val_loss: 0.0765 - val_accuracy: 0.9768\n",
      "Epoch 8/25\n",
      "2444/2444 [==============================] - 58s 24ms/step - loss: 0.1401 - accuracy: 0.9561 - val_loss: 0.0898 - val_accuracy: 0.9731\n",
      "Epoch 9/25\n",
      "2444/2444 [==============================] - 61s 25ms/step - loss: 0.1289 - accuracy: 0.9589 - val_loss: 0.0628 - val_accuracy: 0.9808\n",
      "Epoch 10/25\n",
      "2444/2444 [==============================] - 57s 23ms/step - loss: 0.1248 - accuracy: 0.9604 - val_loss: 0.0650 - val_accuracy: 0.9808\n",
      "Epoch 11/25\n",
      "2444/2444 [==============================] - 57s 23ms/step - loss: 0.1190 - accuracy: 0.9629 - val_loss: 0.0519 - val_accuracy: 0.9842\n",
      "Epoch 12/25\n",
      "2444/2444 [==============================] - 58s 24ms/step - loss: 0.1166 - accuracy: 0.9640 - val_loss: 0.0590 - val_accuracy: 0.9830\n",
      "Epoch 13/25\n",
      "2444/2444 [==============================] - 57s 23ms/step - loss: 0.1083 - accuracy: 0.9654 - val_loss: 0.0517 - val_accuracy: 0.9833\n",
      "Epoch 14/25\n",
      "2444/2444 [==============================] - 58s 24ms/step - loss: 0.1063 - accuracy: 0.9675 - val_loss: 0.0469 - val_accuracy: 0.9851\n",
      "Epoch 15/25\n",
      "2444/2444 [==============================] - 59s 24ms/step - loss: 0.1024 - accuracy: 0.9681 - val_loss: 0.0490 - val_accuracy: 0.9851\n",
      "Epoch 16/25\n",
      "2444/2444 [==============================] - 57s 23ms/step - loss: 0.0978 - accuracy: 0.9690 - val_loss: 0.0562 - val_accuracy: 0.9830\n",
      "Epoch 17/25\n",
      "2444/2444 [==============================] - 57s 23ms/step - loss: 0.0975 - accuracy: 0.9696 - val_loss: 0.0512 - val_accuracy: 0.9845\n",
      "Epoch 18/25\n",
      "2444/2444 [==============================] - 56s 23ms/step - loss: 0.0918 - accuracy: 0.9709 - val_loss: 0.0464 - val_accuracy: 0.9872\n",
      "Epoch 19/25\n",
      "2444/2444 [==============================] - 58s 24ms/step - loss: 0.0910 - accuracy: 0.9713 - val_loss: 0.0525 - val_accuracy: 0.9838\n",
      "Epoch 20/25\n",
      "2444/2444 [==============================] - 58s 24ms/step - loss: 0.0890 - accuracy: 0.9718 - val_loss: 0.0465 - val_accuracy: 0.9858\n",
      "Epoch 21/25\n",
      "2444/2444 [==============================] - 58s 24ms/step - loss: 0.0873 - accuracy: 0.9717 - val_loss: 0.0451 - val_accuracy: 0.9867\n",
      "Epoch 22/25\n",
      "2444/2444 [==============================] - 57s 24ms/step - loss: 0.0857 - accuracy: 0.9730 - val_loss: 0.0523 - val_accuracy: 0.9842\n",
      "Epoch 23/25\n",
      "2444/2444 [==============================] - 57s 24ms/step - loss: 0.0829 - accuracy: 0.9740 - val_loss: 0.0473 - val_accuracy: 0.9838\n",
      "Epoch 24/25\n",
      "2444/2444 [==============================] - 62s 25ms/step - loss: 0.0832 - accuracy: 0.9736 - val_loss: 0.0388 - val_accuracy: 0.9877\n",
      "Epoch 25/25\n",
      "2444/2444 [==============================] - 62s 25ms/step - loss: 0.0803 - accuracy: 0.9742 - val_loss: 0.0430 - val_accuracy: 0.9869\n"
     ]
    }
   ],
   "source": [
    "#fitting the model\n",
    "hin_cnn =model.fit(\n",
    "        trainGenerator,\n",
    "        epochs = 25,\n",
    "        steps_per_epoch = 2444,\n",
    "        validation_data = validation_generator,\n",
    "        validation_steps = 432)\n"
   ]
  },
  {
   "cell_type": "code",
   "execution_count": 8,
   "metadata": {},
   "outputs": [],
   "source": [
    "#saving model\n",
    "model.save(\"HindiModel-97.h5\")"
   ]
  },
  {
   "cell_type": "code",
   "execution_count": 9,
   "metadata": {},
   "outputs": [],
   "source": [
    "#plotting graphs\n",
    "%matplotlib inline\n",
    "accu=hin_cnn.history['accuracy']\n",
    "val_acc=hin_cnn.history['val_accuracy']\n",
    "loss=hin_cnn.history['loss']\n",
    "val_loss=hin_cnn.history['val_loss']\n",
    "\n",
    "epochs=range(len(accu)) #No. of epochs\n",
    "\n"
   ]
  },
  {
   "cell_type": "code",
   "execution_count": 10,
   "metadata": {},
   "outputs": [
    {
     "data": {
      "image/png": "[encoded data removed]",
      "text/plain": [
       "<Figure size 432x288 with 1 Axes>"
      ]
     },
     "metadata": {
      "needs_background": "light"
     },
     "output_type": "display_data"
    },
    {
     "data": {
      "image/png": "[encoded data removed]",
      "text/plain": [
       "<Figure size 432x288 with 1 Axes>"
      ]
     },
     "metadata": {
      "needs_background": "light"
     },
     "output_type": "display_data"
    }
   ],
   "source": [
    "#plotting graphs\n",
    "import matplotlib.pyplot as plt\n",
    "plt.plot(epochs,accu,'r',label='Training Accuracy')\n",
    "plt.plot(epochs,val_acc,'g',label='Testing Accuracy')\n",
    "\n",
    "plt.savefig('training_acuuracy_hin.png')\n",
    "plt.legend()\n",
    "plt.figure()\n",
    "\n",
    "#Plot training and validation loss per epoch\n",
    "plt.plot(epochs,loss,'r',label='Training Loss')\n",
    "plt.plot(epochs,val_loss,'g',label='Testing Loss')\n",
    "\n",
    "plt.savefig('training_loss_hin.png')\n",
    "plt.legend()\n",
    "plt.show()\n",
    "\n"
   ]
  },
  {
   "cell_type": "code",
   "execution_count": null,
   "metadata": {},
   "outputs": [],
   "source": []
  },
  {
   "cell_type": "code",
   "execution_count": null,
   "metadata": {},
   "outputs": [],
   "source": []
  }
 ],
 "metadata": {
  "kernelspec": {
   "display_name": "Python 3",
   "language": "python",
   "name": "python3"
  },
  "language_info": {
   "codemirror_mode": {
    "name": "ipython",
    "version": 3
   },
   "file_extension": ".py",
   "mimetype": "text/x-python",
   "name": "python",
   "nbconvert_exporter": "python",
   "pygments_lexer": "ipython3",
   "version": "3.7.6"
  }
 },
 "nbformat": 4,
 "nbformat_minor": 4
}
