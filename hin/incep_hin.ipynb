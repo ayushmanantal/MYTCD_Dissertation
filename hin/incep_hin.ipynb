{
 "cells": [
  {
   "cell_type": "code",
   "execution_count": 1,
   "metadata": {},
   "outputs": [],
   "source": [
    "#importing packages\n",
    "import os \n",
    "import zipfile \n",
    "import tensorflow as tf \n",
    "from tensorflow.keras.optimizers import RMSprop \n",
    "from tensorflow.keras.preprocessing.image import ImageDataGenerator \n",
    "from tensorflow.keras import layers \n",
    "from tensorflow.keras import Model \n",
    "from tensorflow.keras.applications.inception_v3 import InceptionV3 \n",
    "from tensorflow.keras.optimizers import RMSprop \n",
    "from tensorflow.keras.callbacks import ModelCheckpoint, ReduceLROnPlateau"
   ]
  },
  {
   "cell_type": "code",
   "execution_count": 2,
   "metadata": {},
   "outputs": [],
   "source": [
    "# re-size all the images to this\n",
    "IMAGE_SIZE = [128, 128]\n",
    "\n",
    "train_path = 'DevanagariHandwrittenCharacterDataset/Train'\n",
    "valid_path = 'DevanagariHandwrittenCharacterDataset/Test'\n"
   ]
  },
  {
   "cell_type": "code",
   "execution_count": 3,
   "metadata": {},
   "outputs": [
    {
     "name": "stdout",
     "output_type": "stream",
     "text": [
      "Found 78200 images belonging to 46 classes.\n"
     ]
    }
   ],
   "source": [
    "#training data directory and parameteres\n",
    "trainDataGen = ImageDataGenerator(\n",
    "                    rotation_range = 5,\n",
    "                    width_shift_range = 0.1,\n",
    "                    height_shift_range = 0.1,\n",
    "                    rescale = 1.0/255,\n",
    "                    shear_range = 0.2,\n",
    "                    zoom_range = 0.2,\n",
    "                    horizontal_flip = False,\n",
    "                    fill_mode = 'nearest',\n",
    "                )\n",
    "\n",
    "testDataGen = ImageDataGenerator(rescale=1.0/255,)\n",
    "\n",
    "\n",
    "train_gen = trainDataGen.flow_from_directory(\n",
    "                    \"DevanagariHandwrittenCharacterDataset/Train\",\n",
    "                    target_size=(128, 128),\n",
    "                    class_mode=\"categorical\",\n",
    "                    batch_size=64\n",
    "                    )\n"
   ]
  },
  {
   "cell_type": "code",
   "execution_count": 4,
   "metadata": {},
   "outputs": [
    {
     "name": "stdout",
     "output_type": "stream",
     "text": [
      "Found 13800 images belonging to 46 classes.\n"
     ]
    }
   ],
   "source": [
    "#validation data directory and parameteres\n",
    "val_gen = testDataGen.flow_from_directory(\n",
    "                    \"DevanagariHandwrittenCharacterDataset/Test\",\n",
    "                    target_size=(128, 128),\n",
    "                    class_mode=\"categorical\",\n",
    "                    batch_size=64\n",
    "                    )\n"
   ]
  },
  {
   "cell_type": "code",
   "execution_count": 5,
   "metadata": {},
   "outputs": [],
   "source": [
    "#building base model\n",
    "base_model = InceptionV3(input_shape = IMAGE_SIZE + [3],  \n",
    "                                include_top = False,  \n",
    "                                weights = 'imagenet') \n",
    "for layer in base_model.layers: \n",
    "  layer.trainable = False\n",
    "  \n",
    "#stop training is model accuracy reached 99% \n",
    "class myCallback(tf.keras.callbacks.Callback): \n",
    "  def on_epoch_end(self, epoch, logs={}): \n",
    "    if(logs.get('acc')>0.99): \n",
    "      self.model.stop_training = True"
   ]
  },
  {
   "cell_type": "code",
   "execution_count": 6,
   "metadata": {},
   "outputs": [],
   "source": [
    "# code \n",
    "x = layers.Flatten()(base_model.output) \n",
    "\n",
    "x = layers.BatchNormalization()(x)\n",
    "x = layers.Dropout(0.1)(x)\n",
    "x = layers.Dense(512, activation='relu')(x)\n",
    "x = layers.Dense(256,activation='relu')(x) \n",
    "x = layers.Dropout(0.1)(x)  #dropout is decreased after observation of resutls on dataset\n",
    "x = layers.BatchNormalization()(x)\n",
    "\n",
    "x = layers.Dense(46, activation='softmax')(x)            \n",
    "  \n",
    "model = Model( base_model.input, x)  "
   ]
  },
  {
   "cell_type": "code",
   "execution_count": 7,
   "metadata": {},
   "outputs": [],
   "source": [
    "#compiling the model\n",
    "opt = tf.keras.optimizers.Adam()\n",
    "model.compile(optimizer = opt,loss = 'categorical_crossentropy',metrics = ['acc']) # was using binary before"
   ]
  },
  {
   "cell_type": "code",
   "execution_count": 8,
   "metadata": {},
   "outputs": [],
   "source": [
    "#if no change in validation loss - learning rate will be decreased\n",
    "anne = ReduceLROnPlateau(monitor='val_accuracy', factor=0.5, patience=5, verbose=1, min_lr=1e-3)\n",
    "checkpoint = ModelCheckpoint('model.h5', verbose=1, save_best_only=True)"
   ]
  },
  {
   "cell_type": "code",
   "execution_count": 9,
   "metadata": {},
   "outputs": [
    {
     "name": "stdout",
     "output_type": "stream",
     "text": [
      "Epoch 1/30\n",
      "1222/1222 [==============================] - 505s 413ms/step - loss: 1.0359 - acc: 0.6981 - val_loss: 0.4062 - val_acc: 0.8748\n",
      "Epoch 2/30\n",
      "1222/1222 [==============================] - 463s 379ms/step - loss: 0.6268 - acc: 0.8058 - val_loss: 0.3435 - val_acc: 0.8904\n",
      "Epoch 3/30\n",
      "1222/1222 [==============================] - 524s 428ms/step - loss: 0.5290 - acc: 0.8353 - val_loss: 0.2859 - val_acc: 0.9113\n",
      "Epoch 4/30\n",
      "1222/1222 [==============================] - 465s 381ms/step - loss: 0.4786 - acc: 0.8491 - val_loss: 0.2740 - val_acc: 0.9106\n",
      "Epoch 5/30\n",
      "1222/1222 [==============================] - 479s 392ms/step - loss: 0.4366 - acc: 0.8619 - val_loss: 0.2403 - val_acc: 0.9253\n",
      "Epoch 6/30\n",
      "1222/1222 [==============================] - 479s 392ms/step - loss: 0.4157 - acc: 0.8681 - val_loss: 0.2341 - val_acc: 0.9272\n",
      "Epoch 7/30\n",
      "1222/1222 [==============================] - 501s 410ms/step - loss: 0.3906 - acc: 0.8767 - val_loss: 0.2097 - val_acc: 0.9351\n",
      "Epoch 8/30\n",
      "1222/1222 [==============================] - 482s 394ms/step - loss: 0.3754 - acc: 0.8809 - val_loss: 0.1993 - val_acc: 0.9370\n",
      "Epoch 9/30\n",
      "1222/1222 [==============================] - 458s 375ms/step - loss: 0.3563 - acc: 0.8866 - val_loss: 0.1840 - val_acc: 0.9423\n",
      "Epoch 10/30\n",
      "1222/1222 [==============================] - 435s 356ms/step - loss: 0.3337 - acc: 0.8941 - val_loss: 0.1830 - val_acc: 0.9439\n",
      "Epoch 11/30\n",
      "1222/1222 [==============================] - 427s 350ms/step - loss: 0.3245 - acc: 0.8957 - val_loss: 0.1758 - val_acc: 0.9461\n",
      "Epoch 12/30\n",
      "1222/1222 [==============================] - 425s 348ms/step - loss: 0.3133 - acc: 0.9002 - val_loss: 0.1716 - val_acc: 0.9458\n",
      "Epoch 13/30\n",
      "1222/1222 [==============================] - 421s 344ms/step - loss: 0.3010 - acc: 0.9036 - val_loss: 0.1631 - val_acc: 0.9503\n",
      "Epoch 14/30\n",
      "1222/1222 [==============================] - 415s 340ms/step - loss: 0.2976 - acc: 0.9042 - val_loss: 0.1582 - val_acc: 0.9504\n",
      "Epoch 15/30\n",
      "1222/1222 [==============================] - 424s 347ms/step - loss: 0.2856 - acc: 0.9081 - val_loss: 0.1642 - val_acc: 0.9518\n",
      "Epoch 16/30\n",
      "1222/1222 [==============================] - 426s 349ms/step - loss: 0.2801 - acc: 0.9096 - val_loss: 0.1685 - val_acc: 0.9467\n",
      "Epoch 17/30\n",
      "1222/1222 [==============================] - 434s 355ms/step - loss: 0.2747 - acc: 0.9112 - val_loss: 0.1493 - val_acc: 0.9526\n",
      "Epoch 18/30\n",
      "1222/1222 [==============================] - 447s 366ms/step - loss: 0.2663 - acc: 0.9148 - val_loss: 0.1465 - val_acc: 0.9557\n",
      "Epoch 19/30\n",
      "1222/1222 [==============================] - 448s 367ms/step - loss: 0.2621 - acc: 0.9158 - val_loss: 0.1514 - val_acc: 0.9550\n",
      "Epoch 20/30\n",
      "1222/1222 [==============================] - 430s 352ms/step - loss: 0.2544 - acc: 0.9178 - val_loss: 0.1441 - val_acc: 0.9540\n",
      "Epoch 21/30\n",
      "1222/1222 [==============================] - 445s 364ms/step - loss: 0.2502 - acc: 0.9201 - val_loss: 0.1370 - val_acc: 0.9573\n",
      "Epoch 22/30\n",
      "1222/1222 [==============================] - 438s 358ms/step - loss: 0.2493 - acc: 0.9199 - val_loss: 0.1351 - val_acc: 0.9563\n",
      "Epoch 23/30\n",
      "1222/1222 [==============================] - 437s 358ms/step - loss: 0.2405 - acc: 0.9217 - val_loss: 0.1426 - val_acc: 0.9551\n",
      "Epoch 24/30\n",
      "1222/1222 [==============================] - 415s 339ms/step - loss: 0.2387 - acc: 0.9227 - val_loss: 0.1405 - val_acc: 0.9563\n",
      "Epoch 25/30\n",
      "1222/1222 [==============================] - 411s 336ms/step - loss: 0.2333 - acc: 0.9251 - val_loss: 0.1292 - val_acc: 0.9592\n",
      "Epoch 26/30\n",
      "1222/1222 [==============================] - 404s 331ms/step - loss: 0.2268 - acc: 0.9278 - val_loss: 0.1326 - val_acc: 0.9598\n",
      "Epoch 27/30\n",
      "1222/1222 [==============================] - 421s 344ms/step - loss: 0.2288 - acc: 0.9265 - val_loss: 0.1252 - val_acc: 0.9598\n",
      "Epoch 28/30\n",
      "1222/1222 [==============================] - 398s 326ms/step - loss: 0.2232 - acc: 0.9280 - val_loss: 0.1327 - val_acc: 0.9588\n",
      "Epoch 29/30\n",
      "1222/1222 [==============================] - 414s 339ms/step - loss: 0.2201 - acc: 0.9286 - val_loss: 0.1200 - val_acc: 0.9614\n",
      "Epoch 30/30\n",
      "1222/1222 [==============================] - 406s 332ms/step - loss: 0.2178 - acc: 0.9295 - val_loss: 0.1228 - val_acc: 0.9632\n"
     ]
    }
   ],
   "source": [
    "#fitting the model  \n",
    "incep = model.fit( \n",
    "            train_gen, \n",
    "            validation_data = val_gen, \n",
    "            steps_per_epoch = 1222, \n",
    "            epochs = 30, \n",
    "            validation_steps = 126) "
   ]
  },
  {
   "cell_type": "code",
   "execution_count": 10,
   "metadata": {},
   "outputs": [],
   "source": [
    "#saving the model\n",
    "model.save(\"Incep_hind.h5\")"
   ]
  },
  {
   "cell_type": "code",
   "execution_count": 11,
   "metadata": {},
   "outputs": [],
   "source": [
    "#plotting the graph\n",
    "%matplotlib inline\n",
    "accu=incep.history['acc']\n",
    "val_acc=incep.history['val_acc']\n",
    "loss=incep.history['loss']\n",
    "val_loss=incep.history['val_loss']\n",
    "\n",
    "epochs=range(len(accu)) #No. of epochs\n",
    "\n"
   ]
  },
  {
   "cell_type": "code",
   "execution_count": 12,
   "metadata": {},
   "outputs": [
    {
     "data": {
      "image/png": "[encoded data removed]",
      "text/plain": [
       "<Figure size 432x288 with 1 Axes>"
      ]
     },
     "metadata": {
      "needs_background": "light"
     },
     "output_type": "display_data"
    },
    {
     "data": {
      "image/png": "[encoded data removed]",
      "text/plain": [
       "<Figure size 432x288 with 1 Axes>"
      ]
     },
     "metadata": {
      "needs_background": "light"
     },
     "output_type": "display_data"
    }
   ],
   "source": [
    "import matplotlib.pyplot as plt\n",
    "plt.plot(epochs,accu,'r',label='Training Accuracy')\n",
    "plt.plot(epochs,val_acc,'g',label='Testing Accuracy')\n",
    "\n",
    "plt.savefig('training_incep_hin.png')\n",
    "plt.legend()\n",
    "plt.figure()\n",
    "\n",
    "#Plot training and validation loss per epoch\n",
    "plt.plot(epochs,loss,'r',label='Training Loss')\n",
    "plt.plot(epochs,val_loss,'g',label='Testing Loss')\n",
    "\n",
    "plt.savefig('loss_incep_hin.png')\n",
    "plt.legend()\n",
    "plt.show()\n",
    "\n"
   ]
  },
  {
   "cell_type": "code",
   "execution_count": null,
   "metadata": {},
   "outputs": [],
   "source": []
  }
 ],
 "metadata": {
  "kernelspec": {
   "display_name": "Python 3",
   "language": "python",
   "name": "python3"
  },
  "language_info": {
   "codemirror_mode": {
    "name": "ipython",
    "version": 3
   },
   "file_extension": ".py",
   "mimetype": "text/x-python",
   "name": "python",
   "nbconvert_exporter": "python",
   "pygments_lexer": "ipython3",
   "version": "3.7.6"
  }
 },
 "nbformat": 4,
 "nbformat_minor": 4
}
